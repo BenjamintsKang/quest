{
 "cells": [
  {
   "cell_type": "markdown",
   "metadata": {},
   "source": [
    "# imgages의 파일을 cat과 dog 폴더로 분류"
   ]
  },
  {
   "cell_type": "code",
   "execution_count": 31,
   "metadata": {},
   "outputs": [],
   "source": [
    "import os, shutil, pathlib"
   ]
  },
  {
   "cell_type": "code",
   "execution_count": 38,
   "metadata": {},
   "outputs": [],
   "source": [
    "# 이 코드가 저장된 위치보다 한 단계 위의 위치에 annotaions 폴더가 존재해야함\n",
    "fname_list = open(pathlib.Path('../annotations/list.txt'), 'r', encoding='utf-8')\n",
    "trainval_fname_list = open(pathlib.Path('../annotations/trainval.txt'), 'r', encoding='utf-8')\n",
    "test_fname_list = open(pathlib.Path('../annotations/test.txt'), 'r', encoding='utf-8')\n",
    "\n",
    "original_dir = pathlib.Path(\"../images\")\n",
    "new_base_dir = pathlib.Path(\"../catdog\")\n",
    "\n",
    "#Image CLASS-ID SPECIES BREED ID\n",
    "#ID: 1:37 Class ids\n",
    "#SPECIES: 1:Cat 2:Dog\n",
    "#BREED ID: 1-25:Cat 1:12:Dog\n",
    "#All images with 1st letter as captial are cat images\n",
    "#images with small first letter are dog images\n",
    "\n",
    "SPECIES  = {\n",
    "    1:'cat', \n",
    "    2:'dog'}\n",
    "IDS      = (id for id in range(1, 38))\n",
    "BREED_ID = {\n",
    "    'cat': (id for id in range(1, 26)),\n",
    "    'dog': (id for id in range(1, 13))\n",
    "    }\n",
    "\n",
    "# 이미지 파일 전체에 대한 (파일이름, 레이블) 딕셔너리 생성\n",
    "FINFO_DICT = [{'fname': fname.replace('\\n', '').split()[0] + '.jpg',\n",
    "               'id': fname.replace('\\n', '').split()[2],\n",
    "               } for fname in fname_list]\n",
    "\n",
    "# 훈련 및 검증 파일에 대한 (파일이름, 레이블) 딕셔너리 생성\n",
    "TRAINVAL_FINFO_DICT =  [{'fname': fname.replace('\\n', '').split()[0] + '.jpg',\n",
    "               'id': fname.replace('\\n', '').split()[2],\n",
    "               } for fname in trainval_fname_list]\n",
    "\n",
    "# 테스트 파일에 대한 (파일이름, 레이블) 딕셔너리 생성\n",
    "TEST_FINFO_DICT =  [{'fname': fname.replace('\\n', '').split()[0] + '.jpg',\n",
    "               'id': fname.replace('\\n', '').split()[2],\n",
    "               } for fname in test_fname_list]\n",
    "\n",
    "fname_list.close()\n",
    "trainval_fname_list.close()\n",
    "test_fname_list.close()"
   ]
  },
  {
   "cell_type": "code",
   "execution_count": null,
   "metadata": {},
   "outputs": [],
   "source": [
    "TEST_FINFO_DICT"
   ]
  },
  {
   "cell_type": "code",
   "execution_count": 40,
   "metadata": {},
   "outputs": [],
   "source": [
    "def make_subset(subset_name):\n",
    "\n",
    "    # 'testval.txt'파일로 train(cat, dog) 폴더 생성\n",
    "    if subset_name == 'train':\n",
    "        for key, category in SPECIES.items():\n",
    "            dir = new_base_dir / subset_name / category\n",
    "            os.makedirs(dir)\n",
    "            # 고양이라면\n",
    "            if category == 'cat':   \n",
    "                cat_fnames = [f_info['fname'] for f_info in TRAINVAL_FINFO_DICT if f_info['id'] == '1']\n",
    "                for fname in cat_fnames:\n",
    "                    shutil.copyfile(src = original_dir / fname,\n",
    "                                    dst = dir / fname)\n",
    "            # 강아지라면\n",
    "            else:   \n",
    "                dog_fnames = [f_info['fname'] for f_info in TRAINVAL_FINFO_DICT if f_info['id'] == '2']\n",
    "                for fname in dog_fnames:\n",
    "                    shutil.copyfile(src = original_dir / fname,\n",
    "                                    dst = dir / fname)\n",
    "    \n",
    "    # 'test.txt'파일로 test(cat, dog) 폴더 생성\n",
    "    elif subset_name == 'test':\n",
    "        for key, category in SPECIES.items():\n",
    "            dir = new_base_dir / subset_name / category\n",
    "            os.makedirs(dir)\n",
    "            # 고양이라면\n",
    "            if category == 'cat':   \n",
    "                cat_fnames = [f_info['fname'] for f_info in TEST_FINFO_DICT if f_info['id'] == '1']\n",
    "                for fname in cat_fnames:\n",
    "                    shutil.copyfile(src = original_dir / fname,\n",
    "                                    dst = dir / fname)\n",
    "            # 강아지라면\n",
    "            else:   \n",
    "                dog_fnames = [f_info['fname'] for f_info in TEST_FINFO_DICT if f_info['id'] == '2']\n",
    "                for fname in dog_fnames:\n",
    "                    shutil.copyfile(src = original_dir / fname,\n",
    "                                    dst = dir / fname)"
   ]
  },
  {
   "cell_type": "code",
   "execution_count": 42,
   "metadata": {},
   "outputs": [],
   "source": [
    "make_subset('train')\n",
    "make_subset('test')"
   ]
  }
 ],
 "metadata": {
  "kernelspec": {
   "display_name": "Python 3",
   "language": "python",
   "name": "python3"
  },
  "language_info": {
   "codemirror_mode": {
    "name": "ipython",
    "version": 3
   },
   "file_extension": ".py",
   "mimetype": "text/x-python",
   "name": "python",
   "nbconvert_exporter": "python",
   "pygments_lexer": "ipython3",
   "version": "3.8.19"
  }
 },
 "nbformat": 4,
 "nbformat_minor": 2
}
