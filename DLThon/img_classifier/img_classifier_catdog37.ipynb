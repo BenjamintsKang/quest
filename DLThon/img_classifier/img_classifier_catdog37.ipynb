{
 "cells": [
  {
   "cell_type": "markdown",
   "metadata": {},
   "source": [
    "# 이미지 데이터 전처리 및 배치 제너레이터 생성"
   ]
  },
  {
   "cell_type": "code",
   "execution_count": 2,
   "metadata": {},
   "outputs": [
    {
     "name": "stdout",
     "output_type": "stream",
     "text": [
      "Found 2946 images belonging to 37 classes.\n",
      "Found 734 images belonging to 37 classes.\n",
      "Found 3680 images belonging to 37 classes.\n"
     ]
    }
   ],
   "source": [
    "from tensorflow.keras.preprocessing.image import ImageDataGenerator\n",
    "\n",
    "BATCH_SIZE = 32\n",
    "image_height = 500\n",
    "image_width = 500\n",
    "# 폴더 구조로 카테고리를 분류하기 위해\n",
    "train_dir = '../catdog37/train'\n",
    "test_dir = '../catdog37/test'\n",
    "\n",
    "\n",
    "train = ImageDataGenerator(\n",
    "    rescale = 1./255,\n",
    "    # rotation_range = 10,\n",
    "    # width_shift_range=0.1,\n",
    "    # height_shift_range=0.1,\n",
    "    # shear_range=0.1,\n",
    "    # zoom_range=0.1,\n",
    "    validation_split = 0.2   # 검증 데이터 분할\n",
    "    )\n",
    "    \n",
    "train_generator = train.flow_from_directory(train_dir,\n",
    "                                            target_size = (image_height, image_width),\n",
    "                                            color_mode = 'rgb',\n",
    "                                            batch_size=BATCH_SIZE,\n",
    "                                            seed=1,\n",
    "                                            shuffle=True,\n",
    "                                            class_mode=\"categorical\",\n",
    "                                            subset = 'training')   # training\n",
    "\n",
    "validation_generator = train.flow_from_directory(train_dir,\n",
    "                                            target_size = (image_height, image_width),\n",
    "                                            color_mode = 'rgb',\n",
    "                                            batch_size=BATCH_SIZE,\n",
    "                                            seed=1,\n",
    "                                            shuffle=True,\n",
    "                                            class_mode=\"categorical\",\n",
    "                                            subset = 'validation')   # validation\n",
    "\n",
    "test = ImageDataGenerator(rescale = 1./255)\n",
    "\n",
    "test_generator = train.flow_from_directory(train_dir,\n",
    "                                            target_size = (image_height, image_width),\n",
    "                                            color_mode = 'rgb',\n",
    "                                            batch_size=BATCH_SIZE,\n",
    "                                            seed=1,\n",
    "                                            shuffle=True,\n",
    "                                            class_mode=\"categorical\")"
   ]
  },
  {
   "cell_type": "code",
   "execution_count": 3,
   "metadata": {},
   "outputs": [],
   "source": [
    "# img, label = next(train_generator)"
   ]
  },
  {
   "cell_type": "code",
   "execution_count": 4,
   "metadata": {},
   "outputs": [],
   "source": [
    "# img"
   ]
  },
  {
   "cell_type": "code",
   "execution_count": 5,
   "metadata": {},
   "outputs": [],
   "source": [
    "# label"
   ]
  },
  {
   "cell_type": "code",
   "execution_count": 6,
   "metadata": {},
   "outputs": [],
   "source": [
    "# 테스트 후 제너레이터를 다시 생성해야합니다.\n",
    "# 배치를 수행했기에 훈련 데이터가 배치만큼 줄어듭니다.\n",
    "# for data_batch, labels_batch in train_generator:\n",
    "#     print('데이터 배치 크기: ', data_batch.shape)\n",
    "#     print('레이블 배치 크기: ', labels_batch.shape)\n",
    "#     break"
   ]
  },
  {
   "cell_type": "markdown",
   "metadata": {},
   "source": [
    "## 모델 구성"
   ]
  },
  {
   "cell_type": "code",
   "execution_count": 3,
   "metadata": {},
   "outputs": [
    {
     "name": "stderr",
     "output_type": "stream",
     "text": [
      "Using TensorFlow backend.\n"
     ]
    }
   ],
   "source": [
    "import keras\n",
    "from tensorflow.keras import layers"
   ]
  },
  {
   "cell_type": "code",
   "execution_count": null,
   "metadata": {},
   "outputs": [],
   "source": [
    "inputs = keras.Input(shape=(image_height, image_width, 3))\n",
    "x = layers.Conv2D(filters=32, kernel_size=3, activation='relu')(inputs)\n",
    "x = layers.MaxPooling2D(pool_size=2)(x)\n",
    "x = layers.Conv2D(filters=64, kernel_size=3, activation='relu')(x)\n",
    "x = layers.MaxPooling2D(pool_size=2)(x)\n",
    "x = layers.Conv2D(filters=128, kernel_size=3, activation='relu')(x)\n",
    "x = layers.MaxPooling2D(pool_size=2)(x)\n",
    "x = layers.Conv2D(filters=256, kernel_size=3, activation='relu')(x)\n",
    "x = layers.MaxPooling2D(pool_size=2)(x)\n",
    "x = layers.Conv2D(filters=256, kernel_size=3, activation='relu')(x)\n",
    "x = layers.MaxPooling2D(pool_size=2)(x)\n",
    "x = layers.Flatten()(x)\n",
    "outputs = layers.Dense(37, activation='softmax')(x)\n",
    "\n",
    "model = keras.Model(inputs = inputs, outputs = outputs)\n",
    "\n",
    "model.compile(loss='categorical_crossentropy',\n",
    "              optimizer='adam',\n",
    "              metrics=['accuracy'])"
   ]
  },
  {
   "cell_type": "code",
   "execution_count": null,
   "metadata": {},
   "outputs": [],
   "source": [
    "model.summary()"
   ]
  },
  {
   "cell_type": "markdown",
   "metadata": {},
   "source": [
    "## 모델 훈련"
   ]
  },
  {
   "cell_type": "code",
   "execution_count": 22,
   "metadata": {},
   "outputs": [],
   "source": [
    "import os\n",
    "import keras\n",
    "\n",
    "EPOCHS = 30\n",
    "\n",
    "callbacks = [\n",
    "    keras.callbacks.EarlyStopping(\n",
    "        monitor = 'val_accuracy',\n",
    "        patience = 6,\n",
    "    ),\n",
    "    keras.callbacks.ModelCheckpoint(\n",
    "        filepath=os.path.join(\"../학습한 모델들/\", \"/my_conv_catdog37_try_1/my_conv_catdog37_try_1_{epoch:02d}_{val_accuracy:.2f}_{val_loss:.2f}.keras\"),\n",
    "        monitor='val_loss',\n",
    "        save_best_only=True\n",
    "    )\n",
    "]"
   ]
  },
  {
   "cell_type": "code",
   "execution_count": 23,
   "metadata": {},
   "outputs": [
    {
     "name": "stdout",
     "output_type": "stream",
     "text": [
      "Epoch 1/30\n",
      "110/123 [=========================>....] - ETA: 19s - loss: 3.6537 - accuracy: 0.0224"
     ]
    },
    {
     "ename": "KeyboardInterrupt",
     "evalue": "",
     "output_type": "error",
     "traceback": [
      "\u001b[1;31m---------------------------------------------------------------------------\u001b[0m",
      "\u001b[1;31mKeyboardInterrupt\u001b[0m                         Traceback (most recent call last)",
      "Cell \u001b[1;32mIn[23], line 1\u001b[0m\n\u001b[1;32m----> 1\u001b[0m fit_history \u001b[38;5;241m=\u001b[39m \u001b[43mmodel\u001b[49m\u001b[38;5;241;43m.\u001b[39;49m\u001b[43mfit\u001b[49m\u001b[43m(\u001b[49m\u001b[43mtrain_generator\u001b[49m\u001b[43m,\u001b[49m\n\u001b[0;32m      2\u001b[0m \u001b[43m                        \u001b[49m\u001b[43mepochs\u001b[49m\u001b[38;5;241;43m=\u001b[39;49m\u001b[43mEPOCHS\u001b[49m\u001b[43m,\u001b[49m\n\u001b[0;32m      3\u001b[0m \u001b[43m                        \u001b[49m\u001b[43mvalidation_data\u001b[49m\u001b[38;5;241;43m=\u001b[39;49m\u001b[43mvalidation_generator\u001b[49m\u001b[43m,\u001b[49m\n\u001b[0;32m      4\u001b[0m \u001b[43m                        \u001b[49m\u001b[43mcallbacks\u001b[49m\u001b[38;5;241;43m=\u001b[39;49m\u001b[43mcallbacks\u001b[49m\u001b[43m)\u001b[49m\n",
      "File \u001b[1;32mc:\\Users\\ligoan\\anaconda3\\envs\\dlthon\\lib\\site-packages\\tensorflow\\python\\keras\\engine\\training.py:1100\u001b[0m, in \u001b[0;36mModel.fit\u001b[1;34m(self, x, y, batch_size, epochs, verbose, callbacks, validation_split, validation_data, shuffle, class_weight, sample_weight, initial_epoch, steps_per_epoch, validation_steps, validation_batch_size, validation_freq, max_queue_size, workers, use_multiprocessing)\u001b[0m\n\u001b[0;32m   1093\u001b[0m \u001b[38;5;28;01mwith\u001b[39;00m trace\u001b[38;5;241m.\u001b[39mTrace(\n\u001b[0;32m   1094\u001b[0m     \u001b[38;5;124m'\u001b[39m\u001b[38;5;124mtrain\u001b[39m\u001b[38;5;124m'\u001b[39m,\n\u001b[0;32m   1095\u001b[0m     epoch_num\u001b[38;5;241m=\u001b[39mepoch,\n\u001b[0;32m   1096\u001b[0m     step_num\u001b[38;5;241m=\u001b[39mstep,\n\u001b[0;32m   1097\u001b[0m     batch_size\u001b[38;5;241m=\u001b[39mbatch_size,\n\u001b[0;32m   1098\u001b[0m     _r\u001b[38;5;241m=\u001b[39m\u001b[38;5;241m1\u001b[39m):\n\u001b[0;32m   1099\u001b[0m   callbacks\u001b[38;5;241m.\u001b[39mon_train_batch_begin(step)\n\u001b[1;32m-> 1100\u001b[0m   tmp_logs \u001b[38;5;241m=\u001b[39m \u001b[38;5;28;43mself\u001b[39;49m\u001b[38;5;241;43m.\u001b[39;49m\u001b[43mtrain_function\u001b[49m\u001b[43m(\u001b[49m\u001b[43miterator\u001b[49m\u001b[43m)\u001b[49m\n\u001b[0;32m   1101\u001b[0m   \u001b[38;5;28;01mif\u001b[39;00m data_handler\u001b[38;5;241m.\u001b[39mshould_sync:\n\u001b[0;32m   1102\u001b[0m     context\u001b[38;5;241m.\u001b[39masync_wait()\n",
      "File \u001b[1;32mc:\\Users\\ligoan\\anaconda3\\envs\\dlthon\\lib\\site-packages\\tensorflow\\python\\eager\\def_function.py:828\u001b[0m, in \u001b[0;36mFunction.__call__\u001b[1;34m(self, *args, **kwds)\u001b[0m\n\u001b[0;32m    826\u001b[0m tracing_count \u001b[38;5;241m=\u001b[39m \u001b[38;5;28mself\u001b[39m\u001b[38;5;241m.\u001b[39mexperimental_get_tracing_count()\n\u001b[0;32m    827\u001b[0m \u001b[38;5;28;01mwith\u001b[39;00m trace\u001b[38;5;241m.\u001b[39mTrace(\u001b[38;5;28mself\u001b[39m\u001b[38;5;241m.\u001b[39m_name) \u001b[38;5;28;01mas\u001b[39;00m tm:\n\u001b[1;32m--> 828\u001b[0m   result \u001b[38;5;241m=\u001b[39m \u001b[38;5;28;43mself\u001b[39;49m\u001b[38;5;241;43m.\u001b[39;49m\u001b[43m_call\u001b[49m\u001b[43m(\u001b[49m\u001b[38;5;241;43m*\u001b[39;49m\u001b[43margs\u001b[49m\u001b[43m,\u001b[49m\u001b[43m \u001b[49m\u001b[38;5;241;43m*\u001b[39;49m\u001b[38;5;241;43m*\u001b[39;49m\u001b[43mkwds\u001b[49m\u001b[43m)\u001b[49m\n\u001b[0;32m    829\u001b[0m   compiler \u001b[38;5;241m=\u001b[39m \u001b[38;5;124m\"\u001b[39m\u001b[38;5;124mxla\u001b[39m\u001b[38;5;124m\"\u001b[39m \u001b[38;5;28;01mif\u001b[39;00m \u001b[38;5;28mself\u001b[39m\u001b[38;5;241m.\u001b[39m_experimental_compile \u001b[38;5;28;01melse\u001b[39;00m \u001b[38;5;124m\"\u001b[39m\u001b[38;5;124mnonXla\u001b[39m\u001b[38;5;124m\"\u001b[39m\n\u001b[0;32m    830\u001b[0m   new_tracing_count \u001b[38;5;241m=\u001b[39m \u001b[38;5;28mself\u001b[39m\u001b[38;5;241m.\u001b[39mexperimental_get_tracing_count()\n",
      "File \u001b[1;32mc:\\Users\\ligoan\\anaconda3\\envs\\dlthon\\lib\\site-packages\\tensorflow\\python\\eager\\def_function.py:855\u001b[0m, in \u001b[0;36mFunction._call\u001b[1;34m(self, *args, **kwds)\u001b[0m\n\u001b[0;32m    852\u001b[0m   \u001b[38;5;28mself\u001b[39m\u001b[38;5;241m.\u001b[39m_lock\u001b[38;5;241m.\u001b[39mrelease()\n\u001b[0;32m    853\u001b[0m   \u001b[38;5;66;03m# In this case we have created variables on the first call, so we run the\u001b[39;00m\n\u001b[0;32m    854\u001b[0m   \u001b[38;5;66;03m# defunned version which is guaranteed to never create variables.\u001b[39;00m\n\u001b[1;32m--> 855\u001b[0m   \u001b[38;5;28;01mreturn\u001b[39;00m \u001b[38;5;28;43mself\u001b[39;49m\u001b[38;5;241;43m.\u001b[39;49m\u001b[43m_stateless_fn\u001b[49m\u001b[43m(\u001b[49m\u001b[38;5;241;43m*\u001b[39;49m\u001b[43margs\u001b[49m\u001b[43m,\u001b[49m\u001b[43m \u001b[49m\u001b[38;5;241;43m*\u001b[39;49m\u001b[38;5;241;43m*\u001b[39;49m\u001b[43mkwds\u001b[49m\u001b[43m)\u001b[49m  \u001b[38;5;66;03m# pylint: disable=not-callable\u001b[39;00m\n\u001b[0;32m    856\u001b[0m \u001b[38;5;28;01melif\u001b[39;00m \u001b[38;5;28mself\u001b[39m\u001b[38;5;241m.\u001b[39m_stateful_fn \u001b[38;5;129;01mis\u001b[39;00m \u001b[38;5;129;01mnot\u001b[39;00m \u001b[38;5;28;01mNone\u001b[39;00m:\n\u001b[0;32m    857\u001b[0m   \u001b[38;5;66;03m# Release the lock early so that multiple threads can perform the call\u001b[39;00m\n\u001b[0;32m    858\u001b[0m   \u001b[38;5;66;03m# in parallel.\u001b[39;00m\n\u001b[0;32m    859\u001b[0m   \u001b[38;5;28mself\u001b[39m\u001b[38;5;241m.\u001b[39m_lock\u001b[38;5;241m.\u001b[39mrelease()\n",
      "File \u001b[1;32mc:\\Users\\ligoan\\anaconda3\\envs\\dlthon\\lib\\site-packages\\tensorflow\\python\\eager\\function.py:2942\u001b[0m, in \u001b[0;36mFunction.__call__\u001b[1;34m(self, *args, **kwargs)\u001b[0m\n\u001b[0;32m   2939\u001b[0m \u001b[38;5;28;01mwith\u001b[39;00m \u001b[38;5;28mself\u001b[39m\u001b[38;5;241m.\u001b[39m_lock:\n\u001b[0;32m   2940\u001b[0m   (graph_function,\n\u001b[0;32m   2941\u001b[0m    filtered_flat_args) \u001b[38;5;241m=\u001b[39m \u001b[38;5;28mself\u001b[39m\u001b[38;5;241m.\u001b[39m_maybe_define_function(args, kwargs)\n\u001b[1;32m-> 2942\u001b[0m \u001b[38;5;28;01mreturn\u001b[39;00m \u001b[43mgraph_function\u001b[49m\u001b[38;5;241;43m.\u001b[39;49m\u001b[43m_call_flat\u001b[49m\u001b[43m(\u001b[49m\n\u001b[0;32m   2943\u001b[0m \u001b[43m    \u001b[49m\u001b[43mfiltered_flat_args\u001b[49m\u001b[43m,\u001b[49m\u001b[43m \u001b[49m\u001b[43mcaptured_inputs\u001b[49m\u001b[38;5;241;43m=\u001b[39;49m\u001b[43mgraph_function\u001b[49m\u001b[38;5;241;43m.\u001b[39;49m\u001b[43mcaptured_inputs\u001b[49m\u001b[43m)\u001b[49m\n",
      "File \u001b[1;32mc:\\Users\\ligoan\\anaconda3\\envs\\dlthon\\lib\\site-packages\\tensorflow\\python\\eager\\function.py:1918\u001b[0m, in \u001b[0;36mConcreteFunction._call_flat\u001b[1;34m(self, args, captured_inputs, cancellation_manager)\u001b[0m\n\u001b[0;32m   1914\u001b[0m possible_gradient_type \u001b[38;5;241m=\u001b[39m gradients_util\u001b[38;5;241m.\u001b[39mPossibleTapeGradientTypes(args)\n\u001b[0;32m   1915\u001b[0m \u001b[38;5;28;01mif\u001b[39;00m (possible_gradient_type \u001b[38;5;241m==\u001b[39m gradients_util\u001b[38;5;241m.\u001b[39mPOSSIBLE_GRADIENT_TYPES_NONE\n\u001b[0;32m   1916\u001b[0m     \u001b[38;5;129;01mand\u001b[39;00m executing_eagerly):\n\u001b[0;32m   1917\u001b[0m   \u001b[38;5;66;03m# No tape is watching; skip to running the function.\u001b[39;00m\n\u001b[1;32m-> 1918\u001b[0m   \u001b[38;5;28;01mreturn\u001b[39;00m \u001b[38;5;28mself\u001b[39m\u001b[38;5;241m.\u001b[39m_build_call_outputs(\u001b[38;5;28;43mself\u001b[39;49m\u001b[38;5;241;43m.\u001b[39;49m\u001b[43m_inference_function\u001b[49m\u001b[38;5;241;43m.\u001b[39;49m\u001b[43mcall\u001b[49m\u001b[43m(\u001b[49m\n\u001b[0;32m   1919\u001b[0m \u001b[43m      \u001b[49m\u001b[43mctx\u001b[49m\u001b[43m,\u001b[49m\u001b[43m \u001b[49m\u001b[43margs\u001b[49m\u001b[43m,\u001b[49m\u001b[43m \u001b[49m\u001b[43mcancellation_manager\u001b[49m\u001b[38;5;241;43m=\u001b[39;49m\u001b[43mcancellation_manager\u001b[49m\u001b[43m)\u001b[49m)\n\u001b[0;32m   1920\u001b[0m forward_backward \u001b[38;5;241m=\u001b[39m \u001b[38;5;28mself\u001b[39m\u001b[38;5;241m.\u001b[39m_select_forward_and_backward_functions(\n\u001b[0;32m   1921\u001b[0m     args,\n\u001b[0;32m   1922\u001b[0m     possible_gradient_type,\n\u001b[0;32m   1923\u001b[0m     executing_eagerly)\n\u001b[0;32m   1924\u001b[0m forward_function, args_with_tangents \u001b[38;5;241m=\u001b[39m forward_backward\u001b[38;5;241m.\u001b[39mforward()\n",
      "File \u001b[1;32mc:\\Users\\ligoan\\anaconda3\\envs\\dlthon\\lib\\site-packages\\tensorflow\\python\\eager\\function.py:555\u001b[0m, in \u001b[0;36m_EagerDefinedFunction.call\u001b[1;34m(self, ctx, args, cancellation_manager)\u001b[0m\n\u001b[0;32m    553\u001b[0m \u001b[38;5;28;01mwith\u001b[39;00m _InterpolateFunctionError(\u001b[38;5;28mself\u001b[39m):\n\u001b[0;32m    554\u001b[0m   \u001b[38;5;28;01mif\u001b[39;00m cancellation_manager \u001b[38;5;129;01mis\u001b[39;00m \u001b[38;5;28;01mNone\u001b[39;00m:\n\u001b[1;32m--> 555\u001b[0m     outputs \u001b[38;5;241m=\u001b[39m \u001b[43mexecute\u001b[49m\u001b[38;5;241;43m.\u001b[39;49m\u001b[43mexecute\u001b[49m\u001b[43m(\u001b[49m\n\u001b[0;32m    556\u001b[0m \u001b[43m        \u001b[49m\u001b[38;5;28;43mstr\u001b[39;49m\u001b[43m(\u001b[49m\u001b[38;5;28;43mself\u001b[39;49m\u001b[38;5;241;43m.\u001b[39;49m\u001b[43msignature\u001b[49m\u001b[38;5;241;43m.\u001b[39;49m\u001b[43mname\u001b[49m\u001b[43m)\u001b[49m\u001b[43m,\u001b[49m\n\u001b[0;32m    557\u001b[0m \u001b[43m        \u001b[49m\u001b[43mnum_outputs\u001b[49m\u001b[38;5;241;43m=\u001b[39;49m\u001b[38;5;28;43mself\u001b[39;49m\u001b[38;5;241;43m.\u001b[39;49m\u001b[43m_num_outputs\u001b[49m\u001b[43m,\u001b[49m\n\u001b[0;32m    558\u001b[0m \u001b[43m        \u001b[49m\u001b[43minputs\u001b[49m\u001b[38;5;241;43m=\u001b[39;49m\u001b[43margs\u001b[49m\u001b[43m,\u001b[49m\n\u001b[0;32m    559\u001b[0m \u001b[43m        \u001b[49m\u001b[43mattrs\u001b[49m\u001b[38;5;241;43m=\u001b[39;49m\u001b[43mattrs\u001b[49m\u001b[43m,\u001b[49m\n\u001b[0;32m    560\u001b[0m \u001b[43m        \u001b[49m\u001b[43mctx\u001b[49m\u001b[38;5;241;43m=\u001b[39;49m\u001b[43mctx\u001b[49m\u001b[43m)\u001b[49m\n\u001b[0;32m    561\u001b[0m   \u001b[38;5;28;01melse\u001b[39;00m:\n\u001b[0;32m    562\u001b[0m     outputs \u001b[38;5;241m=\u001b[39m execute\u001b[38;5;241m.\u001b[39mexecute_with_cancellation(\n\u001b[0;32m    563\u001b[0m         \u001b[38;5;28mstr\u001b[39m(\u001b[38;5;28mself\u001b[39m\u001b[38;5;241m.\u001b[39msignature\u001b[38;5;241m.\u001b[39mname),\n\u001b[0;32m    564\u001b[0m         num_outputs\u001b[38;5;241m=\u001b[39m\u001b[38;5;28mself\u001b[39m\u001b[38;5;241m.\u001b[39m_num_outputs,\n\u001b[1;32m   (...)\u001b[0m\n\u001b[0;32m    567\u001b[0m         ctx\u001b[38;5;241m=\u001b[39mctx,\n\u001b[0;32m    568\u001b[0m         cancellation_manager\u001b[38;5;241m=\u001b[39mcancellation_manager)\n",
      "File \u001b[1;32mc:\\Users\\ligoan\\anaconda3\\envs\\dlthon\\lib\\site-packages\\tensorflow\\python\\eager\\execute.py:59\u001b[0m, in \u001b[0;36mquick_execute\u001b[1;34m(op_name, num_outputs, inputs, attrs, ctx, name)\u001b[0m\n\u001b[0;32m     57\u001b[0m \u001b[38;5;28;01mtry\u001b[39;00m:\n\u001b[0;32m     58\u001b[0m   ctx\u001b[38;5;241m.\u001b[39mensure_initialized()\n\u001b[1;32m---> 59\u001b[0m   tensors \u001b[38;5;241m=\u001b[39m \u001b[43mpywrap_tfe\u001b[49m\u001b[38;5;241;43m.\u001b[39;49m\u001b[43mTFE_Py_Execute\u001b[49m\u001b[43m(\u001b[49m\u001b[43mctx\u001b[49m\u001b[38;5;241;43m.\u001b[39;49m\u001b[43m_handle\u001b[49m\u001b[43m,\u001b[49m\u001b[43m \u001b[49m\u001b[43mdevice_name\u001b[49m\u001b[43m,\u001b[49m\u001b[43m \u001b[49m\u001b[43mop_name\u001b[49m\u001b[43m,\u001b[49m\n\u001b[0;32m     60\u001b[0m \u001b[43m                                      \u001b[49m\u001b[43minputs\u001b[49m\u001b[43m,\u001b[49m\u001b[43m \u001b[49m\u001b[43mattrs\u001b[49m\u001b[43m,\u001b[49m\u001b[43m \u001b[49m\u001b[43mnum_outputs\u001b[49m\u001b[43m)\u001b[49m\n\u001b[0;32m     61\u001b[0m \u001b[38;5;28;01mexcept\u001b[39;00m core\u001b[38;5;241m.\u001b[39m_NotOkStatusException \u001b[38;5;28;01mas\u001b[39;00m e:\n\u001b[0;32m     62\u001b[0m   \u001b[38;5;28;01mif\u001b[39;00m name \u001b[38;5;129;01mis\u001b[39;00m \u001b[38;5;129;01mnot\u001b[39;00m \u001b[38;5;28;01mNone\u001b[39;00m:\n",
      "\u001b[1;31mKeyboardInterrupt\u001b[0m: "
     ]
    }
   ],
   "source": [
    "fit_history = model.fit(train_generator,\n",
    "                        epochs=EPOCHS,\n",
    "                        validation_data=validation_generator,\n",
    "                        callbacks=callbacks)"
   ]
  },
  {
   "cell_type": "markdown",
   "metadata": {},
   "source": [
    "## 학습 곡선"
   ]
  },
  {
   "cell_type": "code",
   "execution_count": 18,
   "metadata": {},
   "outputs": [
    {
     "data": {
      "image/png": "[encoded data removed]",
      "text/plain": [
       "<Figure size 640x480 with 1 Axes>"
      ]
     },
     "metadata": {},
     "output_type": "display_data"
    },
    {
     "data": {
      "image/png": "[encoded data removed]",
      "text/plain": [
       "<Figure size 640x480 with 1 Axes>"
      ]
     },
     "metadata": {},
     "output_type": "display_data"
    }
   ],
   "source": [
    "import matplotlib.pyplot as plt\n",
    "\n",
    "accuracy = fit_history.history[\"accuracy\"]\n",
    "val_accuracy = fit_history.history[\"val_accuracy\"]\n",
    "loss = fit_history.history[\"loss\"]\n",
    "val_loss = fit_history.history[\"val_loss\"]\n",
    "epochs = range(1, len(accuracy)+1)\n",
    "\n",
    "plt.plot(epochs, accuracy, \"bo\", label=\"Training_accuracy\")\n",
    "plt.plot(epochs, val_accuracy, \"b-\", label=\"validation_accuracy\")\n",
    "plt.title(\"Training and validation accuracy\")\n",
    "plt.legend()\n",
    "\n",
    "plt.figure()\n",
    "plt.plot(epochs, loss, \"bo\", label=\"Training_loss\")\n",
    "plt.plot(epochs, val_loss, \"b-\", label=\"validation_loss\")\n",
    "plt.title(\"Training and validation loss\")\n",
    "plt.legend()\n",
    "\n",
    "plt.show()"
   ]
  },
  {
   "cell_type": "markdown",
   "metadata": {},
   "source": [
    "## 모델 평가"
   ]
  },
  {
   "cell_type": "code",
   "execution_count": 11,
   "metadata": {},
   "outputs": [
    {
     "name": "stdout",
     "output_type": "stream",
     "text": [
      "230/230 [==============================] - 186s 807ms/step - loss: 0.3238 - accuracy: 0.8584\n",
      "테스트 정확도: 0.858\n",
      "테스트 손실: 0.324\n"
     ]
    }
   ],
   "source": [
    "test_model = keras.models.load_model('../학습한 모델들/my_conv_try_1_16_0.81_0.42/my_conv_try_1_16_0.81_0.42.keras')\n",
    "test_loss, test_acc = test_model.evaluate(test_generator)\n",
    "print(f'테스트 정확도: {test_acc:.3f}')\n",
    "print(f'테스트 손실: {test_loss:.3f}')"
   ]
  },
  {
   "cell_type": "markdown",
   "metadata": {},
   "source": [
    "# 사전 훈련된 모델 사용 ( InceptionV3 )"
   ]
  },
  {
   "cell_type": "code",
   "execution_count": 4,
   "metadata": {},
   "outputs": [
    {
     "name": "stderr",
     "output_type": "stream",
     "text": [
      "Using TensorFlow backend.\n"
     ]
    }
   ],
   "source": [
    "import keras\n",
    "conv_base = keras.applications.InceptionV3(weights=\"imagenet\", include_top=False)\n",
    "conv_base.trainable = False"
   ]
  },
  {
   "cell_type": "code",
   "execution_count": null,
   "metadata": {},
   "outputs": [],
   "source": [
    "conv_base.summary()"
   ]
  },
  {
   "cell_type": "code",
   "execution_count": 5,
   "metadata": {},
   "outputs": [],
   "source": [
    "inputs = keras.Input(shape = (image_height, image_width, 3))\n",
    "#x = keras.applications.inception_v3.preprocess_input(inputs)\n",
    "x = conv_base(inputs)\n",
    "x = keras.layers.GlobalAveragePooling2D()(x)\n",
    "x = keras.layers.Dropout(0.5)(x)\n",
    "x = keras.layers.Flatten()(x)\n",
    "# x = keras.layers.Dense(512)(x)\n",
    "outputs = keras.layers.Dense(37, activation = \"softmax\")(x)\n",
    "\n",
    "model = keras.Model(inputs, outputs)\n",
    "model.compile(loss = \"categorical_crossentropy\",\n",
    "              optimizer = \"rmsprop\",\n",
    "              metrics=[\"accuracy\"])"
   ]
  },
  {
   "cell_type": "markdown",
   "metadata": {},
   "source": [
    "## 모델 훈련"
   ]
  },
  {
   "cell_type": "code",
   "execution_count": null,
   "metadata": {},
   "outputs": [],
   "source": [
    "import os\n",
    "import keras\n",
    "\n",
    "EPOCHS = 100\n",
    "\n",
    "callbacks = [\n",
    "    keras.callbacks.EarlyStopping(\n",
    "        monitor = 'val_accuracy',\n",
    "        patience = 6,\n",
    "    ),\n",
    "    keras.callbacks.ModelCheckpoint(\n",
    "        filepath=os.path.join(\"C:/Users/ligoan/OneDrive/바탕 화면/I/repository/quest/DLThon/학습한 모델들/my_conv_catdog37_try_3_inceptionV3_{epoch:02d}_{val_accuracy:.2f}_{val_loss:.2f}/my_conv_catdog37_try_3_inceptionV3_{epoch:02d}_{val_accuracy:.2f}_{val_loss:.2f}.keras\"),\n",
    "        monitor='val_loss',\n",
    "        save_best_only=True\n",
    "    )\n",
    "]\n",
    "\n",
    "fit_history = model.fit(train_generator,\n",
    "                        epochs = EPOCHS,\n",
    "                        validation_data = validation_generator,\n",
    "                        callbacks=callbacks)"
   ]
  },
  {
   "cell_type": "markdown",
   "metadata": {},
   "source": [
    "## 학습 곡선"
   ]
  },
  {
   "cell_type": "code",
   "execution_count": null,
   "metadata": {},
   "outputs": [],
   "source": [
    "import matplotlib.pyplot as plt\n",
    "\n",
    "accuracy = fit_history.history[\"accuracy\"]\n",
    "val_accuracy = fit_history.history[\"val_accuracy\"]\n",
    "loss = fit_history.history[\"loss\"]\n",
    "val_loss = fit_history.history[\"val_loss\"]\n",
    "epochs = range(1, len(accuracy)+1)\n",
    "\n",
    "plt.plot(epochs, accuracy, \"bo\", label=\"Training_accuracy\")\n",
    "plt.plot(epochs, val_accuracy, \"b-\", label=\"validation_accuracy\")\n",
    "plt.title(\"Training and validation accuracy\")\n",
    "plt.legend()\n",
    "\n",
    "plt.figure()\n",
    "plt.plot(epochs, loss, \"bo\", label=\"Training_loss\")\n",
    "plt.plot(epochs, val_loss, \"b-\", label=\"validation_loss\")\n",
    "plt.title(\"Training and validation loss\")\n",
    "plt.legend()\n",
    "\n",
    "plt.show()"
   ]
  },
  {
   "cell_type": "markdown",
   "metadata": {},
   "source": [
    "# 사전 훈련된 모델 사용 | 규제 층 ( Dropout ) 제거, 이미지 크기 조정 500 -> 224"
   ]
  },
  {
   "cell_type": "markdown",
   "metadata": {},
   "source": [
    "## 이미지 데이터 전처리"
   ]
  },
  {
   "cell_type": "code",
   "execution_count": 1,
   "metadata": {},
   "outputs": [
    {
     "name": "stdout",
     "output_type": "stream",
     "text": [
      "Found 2946 images belonging to 37 classes.\n",
      "Found 734 images belonging to 37 classes.\n",
      "Found 3680 images belonging to 37 classes.\n"
     ]
    }
   ],
   "source": [
    "from tensorflow.keras.preprocessing.image import ImageDataGenerator\n",
    "\n",
    "BATCH_SIZE = 32\n",
    "image_height = 224\n",
    "image_width = 224\n",
    "# 폴더 구조로 카테고리를 분류하기 위해\n",
    "train_dir = '../catdog37/train'\n",
    "test_dir = '../catdog37/test'\n",
    "\n",
    "\n",
    "train = ImageDataGenerator(\n",
    "    rescale = 1./255,\n",
    "    # rotation_range = 10,\n",
    "    # width_shift_range=0.1,\n",
    "    # height_shift_range=0.1,\n",
    "    # shear_range=0.1,\n",
    "    # zoom_range=0.1,\n",
    "    validation_split = 0.2   # 검증 데이터 분할\n",
    "    )\n",
    "    \n",
    "train_generator = train.flow_from_directory(train_dir,\n",
    "                                            target_size = (image_height, image_width),\n",
    "                                            color_mode = 'rgb',\n",
    "                                            batch_size=BATCH_SIZE,\n",
    "                                            seed=1,\n",
    "                                            shuffle=True,\n",
    "                                            class_mode=\"categorical\",\n",
    "                                            subset = 'training')   # training\n",
    "\n",
    "validation_generator = train.flow_from_directory(train_dir,\n",
    "                                            target_size = (image_height, image_width),\n",
    "                                            color_mode = 'rgb',\n",
    "                                            batch_size=BATCH_SIZE,\n",
    "                                            seed=1,\n",
    "                                            shuffle=True,\n",
    "                                            class_mode=\"categorical\",\n",
    "                                            subset = 'validation')   # validation\n",
    "\n",
    "test = ImageDataGenerator(rescale = 1./255)\n",
    "\n",
    "test_generator = train.flow_from_directory(train_dir,\n",
    "                                            target_size = (image_height, image_width),\n",
    "                                            color_mode = 'rgb',\n",
    "                                            batch_size=BATCH_SIZE,\n",
    "                                            seed=1,\n",
    "                                            shuffle=True,\n",
    "                                            class_mode=\"categorical\")"
   ]
  },
  {
   "cell_type": "markdown",
   "metadata": {},
   "source": [
    "## 모델 훈련"
   ]
  },
  {
   "cell_type": "code",
   "execution_count": 2,
   "metadata": {},
   "outputs": [
    {
     "name": "stderr",
     "output_type": "stream",
     "text": [
      "Using TensorFlow backend.\n"
     ]
    },
    {
     "name": "stdout",
     "output_type": "stream",
     "text": [
      "Epoch 1/100\n",
      "93/93 [==============================] - 28s 230ms/step - loss: 1.8533 - accuracy: 0.5454 - val_loss: 0.4834 - val_accuracy: 0.8529\n",
      "Epoch 2/100\n",
      "93/93 [==============================] - 20s 215ms/step - loss: 0.3338 - accuracy: 0.8982 - val_loss: 0.4393 - val_accuracy: 0.8569\n",
      "Epoch 3/100\n",
      "93/93 [==============================] - 24s 263ms/step - loss: 0.2526 - accuracy: 0.9141 - val_loss: 0.3794 - val_accuracy: 0.8801\n",
      "Epoch 4/100\n",
      "93/93 [==============================] - 28s 303ms/step - loss: 0.1662 - accuracy: 0.9434 - val_loss: 0.4067 - val_accuracy: 0.8719\n",
      "Epoch 5/100\n",
      "93/93 [==============================] - 31s 335ms/step - loss: 0.1229 - accuracy: 0.9650 - val_loss: 0.4344 - val_accuracy: 0.8542\n",
      "Epoch 6/100\n",
      "93/93 [==============================] - 31s 331ms/step - loss: 0.0885 - accuracy: 0.9730 - val_loss: 0.4419 - val_accuracy: 0.8747\n",
      "Epoch 7/100\n",
      "93/93 [==============================] - 32s 348ms/step - loss: 0.0663 - accuracy: 0.9778 - val_loss: 0.3959 - val_accuracy: 0.8692\n",
      "Epoch 8/100\n",
      "93/93 [==============================] - 34s 365ms/step - loss: 0.0614 - accuracy: 0.9816 - val_loss: 0.4210 - val_accuracy: 0.8760\n",
      "Epoch 9/100\n",
      "93/93 [==============================] - 37s 397ms/step - loss: 0.0389 - accuracy: 0.9935 - val_loss: 0.4191 - val_accuracy: 0.8747\n"
     ]
    }
   ],
   "source": [
    "import keras\n",
    "import os\n",
    "import keras\n",
    "\n",
    "conv_base = keras.applications.InceptionV3(weights=\"imagenet\", include_top=False)\n",
    "conv_base.trainable = False\n",
    "\n",
    "inputs = keras.Input(shape = (image_height, image_width, 3))\n",
    "#x = keras.applications.inception_v3.preprocess_input(inputs)\n",
    "x = conv_base(inputs)\n",
    "x = keras.layers.GlobalAveragePooling2D()(x)\n",
    "# x = keras.layers.Dropout(0.5)(x)\n",
    "x = keras.layers.Flatten()(x)\n",
    "# x = keras.layers.Dense(512)(x)\n",
    "outputs = keras.layers.Dense(37, activation = \"softmax\")(x)\n",
    "\n",
    "model = keras.Model(inputs, outputs)\n",
    "model.compile(loss = \"categorical_crossentropy\",\n",
    "              optimizer = \"rmsprop\",\n",
    "              metrics=[\"accuracy\"])\n",
    "\n",
    "EPOCHS = 100\n",
    "\n",
    "callbacks = [\n",
    "    keras.callbacks.EarlyStopping(\n",
    "        monitor = 'val_accuracy',\n",
    "        patience = 6,\n",
    "    ),\n",
    "    keras.callbacks.ModelCheckpoint(\n",
    "        filepath=os.path.join(\"C:/Users/ligoan/OneDrive/바탕 화면/I/repository/quest/DLThon/학습한 모델들/my_conv_catdog37_try_4_inceptionV3_no_dropout_{epoch:02d}_{val_accuracy:.2f}_{val_loss:.2f}/my_conv_catdog37_try_4_inceptionV3_no_dropout_224_224_{epoch:02d}_{val_accuracy:.2f}_{val_loss:.2f}.keras\"),\n",
    "        monitor='val_loss',\n",
    "        save_best_only=True\n",
    "    )\n",
    "]\n",
    "\n",
    "fit_history = model.fit(train_generator,\n",
    "                        epochs = EPOCHS,\n",
    "                        validation_data = validation_generator,\n",
    "                        callbacks=callbacks)"
   ]
  },
  {
   "cell_type": "markdown",
   "metadata": {},
   "source": [
    "## 학습 곡선"
   ]
  },
  {
   "cell_type": "code",
   "execution_count": null,
   "metadata": {},
   "outputs": [],
   "source": [
    "import matplotlib.pyplot as plt\n",
    "\n",
    "accuracy = fit_history.history[\"accuracy\"]\n",
    "val_accuracy = fit_history.history[\"val_accuracy\"]\n",
    "loss = fit_history.history[\"loss\"]\n",
    "val_loss = fit_history.history[\"val_loss\"]\n",
    "epochs = range(1, len(accuracy)+1)\n",
    "\n",
    "plt.plot(epochs, accuracy, \"bo\", label=\"Training_accuracy\")\n",
    "plt.plot(epochs, val_accuracy, \"b-\", label=\"validation_accuracy\")\n",
    "plt.title(\"Training and validation accuracy\")\n",
    "plt.legend()\n",
    "\n",
    "plt.figure()\n",
    "plt.plot(epochs, loss, \"bo\", label=\"Training_loss\")\n",
    "plt.plot(epochs, val_loss, \"b-\", label=\"validation_loss\")\n",
    "plt.title(\"Training and validation loss\")\n",
    "plt.legend()\n",
    "\n",
    "plt.show()"
   ]
  },
  {
   "cell_type": "markdown",
   "metadata": {},
   "source": [
    "# 사전 훈련된 모델 사용 | 규제 층 추가 ( regularizer ), 이미지 크기 조정 500 -> 224"
   ]
  },
  {
   "cell_type": "code",
   "execution_count": 13,
   "metadata": {},
   "outputs": [],
   "source": [
    "import keras\n",
    "conv_base = keras.applications.InceptionV3(weights=\"imagenet\", include_top=False)\n",
    "conv_base.trainable = False"
   ]
  },
  {
   "cell_type": "markdown",
   "metadata": {},
   "source": [
    "## 이미지 데이터 전처리"
   ]
  },
  {
   "cell_type": "code",
   "execution_count": 6,
   "metadata": {},
   "outputs": [
    {
     "name": "stdout",
     "output_type": "stream",
     "text": [
      "Found 2946 images belonging to 37 classes.\n",
      "Found 734 images belonging to 37 classes.\n",
      "Found 3680 images belonging to 37 classes.\n"
     ]
    }
   ],
   "source": [
    "from tensorflow.keras.preprocessing.image import ImageDataGenerator\n",
    "\n",
    "BATCH_SIZE = 32\n",
    "image_height = 224\n",
    "image_width = 224\n",
    "# 폴더 구조로 카테고리를 분류하기 위해\n",
    "train_dir = '../catdog37/train'\n",
    "test_dir = '../catdog37/test'\n",
    "\n",
    "\n",
    "train = ImageDataGenerator(\n",
    "    rescale = 1./255,\n",
    "    # rotation_range = 10,\n",
    "    # width_shift_range=0.1,\n",
    "    # height_shift_range=0.1,\n",
    "    # shear_range=0.1,\n",
    "    # zoom_range=0.1,\n",
    "    validation_split = 0.2   # 검증 데이터 분할\n",
    "    )\n",
    "    \n",
    "train_generator = train.flow_from_directory(train_dir,\n",
    "                                            target_size = (image_height, image_width),\n",
    "                                            color_mode = 'rgb',\n",
    "                                            batch_size=BATCH_SIZE,\n",
    "                                            seed=1,\n",
    "                                            shuffle=True,\n",
    "                                            class_mode=\"categorical\",\n",
    "                                            subset = 'training')   # training\n",
    "\n",
    "validation_generator = train.flow_from_directory(train_dir,\n",
    "                                            target_size = (image_height, image_width),\n",
    "                                            color_mode = 'rgb',\n",
    "                                            batch_size=BATCH_SIZE,\n",
    "                                            seed=1,\n",
    "                                            shuffle=True,\n",
    "                                            class_mode=\"categorical\",\n",
    "                                            subset = 'validation')   # validation\n",
    "\n",
    "test = ImageDataGenerator(rescale = 1./255)\n",
    "\n",
    "test_generator = train.flow_from_directory(train_dir,\n",
    "                                            target_size = (image_height, image_width),\n",
    "                                            color_mode = 'rgb',\n",
    "                                            batch_size=BATCH_SIZE,\n",
    "                                            seed=1,\n",
    "                                            shuffle=True,\n",
    "                                            class_mode=\"categorical\")"
   ]
  },
  {
   "cell_type": "markdown",
   "metadata": {},
   "source": [
    "## 모델 훈련"
   ]
  },
  {
   "cell_type": "code",
   "execution_count": null,
   "metadata": {},
   "outputs": [],
   "source": [
    "import keras\n",
    "import os\n",
    "import keras\n",
    "\n",
    "conv_base = keras.applications.InceptionV3(weights=\"imagenet\", include_top=False)\n",
    "conv_base.trainable = False\n",
    "\n",
    "inputs = keras.Input(shape = (image_height, image_width, 3))\n",
    "#x = keras.applications.inception_v3.preprocess_input(inputs)\n",
    "x = conv_base(inputs)\n",
    "x = keras.layers.GlobalAveragePooling2D()(x)\n",
    "# x = keras.layers.Dropout(0.5)(x)\n",
    "x = keras.layers.Flatten()(x)\n",
    "x = keras.layers.Dense(37, kernel_regularizer=keras.regularizers.l2(0.01))(x)\n",
    "# x = keras.layers.Dense(512)(x)\n",
    "outputs = keras.layers.Dense(37, activation = \"softmax\")(x)\n",
    "\n",
    "model = keras.Model(inputs, outputs)\n",
    "model.compile(loss = \"categorical_crossentropy\",\n",
    "              optimizer = \"rmsprop\",\n",
    "              metrics=[\"accuracy\"])\n",
    "\n",
    "EPOCHS = 100\n",
    "\n",
    "callbacks = [\n",
    "    keras.callbacks.EarlyStopping(\n",
    "        monitor = 'val_accuracy',\n",
    "        patience = 6,\n",
    "    ),\n",
    "    keras.callbacks.ModelCheckpoint(\n",
    "        filepath=os.path.join(\"C:/Users/ligoan/OneDrive/바탕 화면/I/repository/quest/DLThon/학습한 모델들/my_conv_catdog37_try_5_inceptionV3_regularizer_224_224_{epoch:02d}_{val_accuracy:.2f}_{val_loss:.2f}/my_conv_catdog37_try_4_inceptionV3_regularizer_224_224_{epoch:02d}_{val_accuracy:.2f}_{val_loss:.2f}.keras\"),\n",
    "        monitor='val_loss',\n",
    "        save_best_only=True\n",
    "    )\n",
    "]\n",
    "\n",
    "fit_history = model.fit(train_generator,\n",
    "                        epochs = EPOCHS,\n",
    "                        validation_data = validation_generator,\n",
    "                        callbacks=callbacks)"
   ]
  },
  {
   "cell_type": "markdown",
   "metadata": {},
   "source": [
    "## 학습 곡선"
   ]
  },
  {
   "cell_type": "code",
   "execution_count": null,
   "metadata": {},
   "outputs": [],
   "source": [
    "import matplotlib.pyplot as plt\n",
    "\n",
    "accuracy = fit_history.history[\"accuracy\"]\n",
    "val_accuracy = fit_history.history[\"val_accuracy\"]\n",
    "loss = fit_history.history[\"loss\"]\n",
    "val_loss = fit_history.history[\"val_loss\"]\n",
    "epochs = range(1, len(accuracy)+1)\n",
    "\n",
    "plt.plot(epochs, accuracy, \"bo\", label=\"Training_accuracy\")\n",
    "plt.plot(epochs, val_accuracy, \"b-\", label=\"validation_accuracy\")\n",
    "plt.title(\"Training and validation accuracy\")\n",
    "plt.legend()\n",
    "\n",
    "plt.figure()\n",
    "plt.plot(epochs, loss, \"bo\", label=\"Training_loss\")\n",
    "plt.plot(epochs, val_loss, \"b-\", label=\"validation_loss\")\n",
    "plt.title(\"Training and validation loss\")\n",
    "plt.legend()\n",
    "\n",
    "plt.show()"
   ]
  },
  {
   "cell_type": "markdown",
   "metadata": {},
   "source": [
    "# 사전 훈련된 모델 사용 | Flatten 층 제거 | 입력 층 이미지 크기 제한 해제"
   ]
  },
  {
   "cell_type": "code",
   "execution_count": 27,
   "metadata": {},
   "outputs": [],
   "source": [
    "import keras\n",
    "conv_base = keras.applications.InceptionV3(weights=\"imagenet\", include_top=False)\n",
    "# conv_base.trainable = False"
   ]
  },
  {
   "cell_type": "markdown",
   "metadata": {},
   "source": [
    "## 이미지 전처리"
   ]
  },
  {
   "cell_type": "code",
   "execution_count": 39,
   "metadata": {},
   "outputs": [
    {
     "name": "stdout",
     "output_type": "stream",
     "text": [
      "Found 2946 images belonging to 37 classes.\n",
      "Found 734 images belonging to 37 classes.\n",
      "Found 3680 images belonging to 37 classes.\n"
     ]
    }
   ],
   "source": [
    "from tensorflow.keras.preprocessing.image import ImageDataGenerator\n",
    "\n",
    "BATCH_SIZE = 32\n",
    "image_height = 224\n",
    "image_width = 224\n",
    "# 폴더 구조로 카테고리를 분류하기 위해\n",
    "train_dir = '../catdog37/train'\n",
    "test_dir = '../catdog37/test'\n",
    "\n",
    "\n",
    "train = ImageDataGenerator(\n",
    "    rescale = 1./255,\n",
    "    # rotation_range = 10,\n",
    "    # width_shift_range=0.1,\n",
    "    # height_shift_range=0.1,\n",
    "    # shear_range=0.1,\n",
    "    # zoom_range=0.1,\n",
    "    validation_split = 0.2   # 검증 데이터 분할\n",
    "    )\n",
    "    \n",
    "train_generator = train.flow_from_directory(train_dir,\n",
    "                                            target_size = (image_height, image_width),\n",
    "                                            color_mode = 'rgb',\n",
    "                                            batch_size=BATCH_SIZE,\n",
    "                                            seed=1,\n",
    "                                            shuffle=True,\n",
    "                                            class_mode=\"categorical\",\n",
    "                                            subset = 'training')   # training\n",
    "\n",
    "validation_generator = train.flow_from_directory(train_dir,\n",
    "                                            target_size = (image_height, image_width),\n",
    "                                            color_mode = 'rgb',\n",
    "                                            batch_size=BATCH_SIZE,\n",
    "                                            seed=1,\n",
    "                                            shuffle=True,\n",
    "                                            class_mode=\"categorical\",\n",
    "                                            subset = 'validation')   # validation\n",
    "\n",
    "test = ImageDataGenerator(rescale = 1./255)\n",
    "\n",
    "test_generator = train.flow_from_directory(train_dir,\n",
    "                                            target_size = (image_height, image_width),\n",
    "                                            color_mode = 'rgb',\n",
    "                                            batch_size=BATCH_SIZE,\n",
    "                                            seed=1,\n",
    "                                            shuffle=True,\n",
    "                                            class_mode=\"categorical\")"
   ]
  },
  {
   "cell_type": "markdown",
   "metadata": {},
   "source": [
    "## 모델 훈련"
   ]
  },
  {
   "cell_type": "code",
   "execution_count": null,
   "metadata": {},
   "outputs": [],
   "source": [
    "import keras\n",
    "import os\n",
    "import keras\n",
    "\n",
    "conv_base = keras.applications.InceptionV3(weights=\"imagenet\", include_top=False)\n",
    "conv_base.trainable = False\n",
    "\n",
    "inputs = keras.Input(shape=(None, None, 3))\n",
    "#x = keras.applications.inception_v3.preprocess_input(inputs)\n",
    "x = conv_base(inputs)\n",
    "x = keras.layers.GlobalAveragePooling2D()(x)\n",
    "# x = keras.layers.Dropout(0.5)(x)\n",
    "# x = keras.layers.Flatten()(x)\n",
    "outputs = keras.layers.Dense(37, activation = \"softmax\")(x)\n",
    "\n",
    "model = keras.Model(inputs, outputs)\n",
    "model.compile(loss = \"categorical_crossentropy\",\n",
    "              optimizer = \"rmsprop\",\n",
    "              metrics=[\"accuracy\"])\n",
    "\n",
    "EPOCHS = 150\n",
    "\n",
    "callbacks = [\n",
    "    keras.callbacks.EarlyStopping(\n",
    "        monitor = 'val_accuracy',\n",
    "        patience = 10,\n",
    "    ),\n",
    "    keras.callbacks.ModelCheckpoint(\n",
    "        filepath=os.path.join(\"C:/Users/ligoan/OneDrive/바탕 화면/I/repository/quest/DLThon/학습한 모델들/my_conv_catdog37_try_6_inceptionV3_no_limit_input_size_224_224_{epoch:02d}_{val_accuracy:.2f}_{val_loss:.2f}/my_conv_catdog37_try_6_inceptionV3_no_limit_input_size_224_224_{epoch:02d}_{val_accuracy:.2f}_{val_loss:.2f}.keras\"),\n",
    "        monitor='val_loss',\n",
    "        save_best_only=True\n",
    "    )\n",
    "]\n",
    "\n",
    "fit_history = model.fit(train_generator,\n",
    "                        epochs = EPOCHS,\n",
    "                        validation_data = validation_generator,\n",
    "                        callbacks=callbacks)"
   ]
  },
  {
   "cell_type": "markdown",
   "metadata": {},
   "source": [
    "## 학습 곡선"
   ]
  },
  {
   "cell_type": "code",
   "execution_count": null,
   "metadata": {},
   "outputs": [],
   "source": [
    "import matplotlib.pyplot as plt\n",
    "\n",
    "accuracy = fit_history.history[\"accuracy\"]\n",
    "val_accuracy = fit_history.history[\"val_accuracy\"]\n",
    "loss = fit_history.history[\"loss\"]\n",
    "val_loss = fit_history.history[\"val_loss\"]\n",
    "epochs = range(1, len(accuracy)+1)\n",
    "\n",
    "plt.plot(epochs, accuracy, \"bo\", label=\"Training_accuracy\")\n",
    "plt.plot(epochs, val_accuracy, \"b-\", label=\"validation_accuracy\")\n",
    "plt.title(\"Training and validation accuracy\")\n",
    "plt.legend()\n",
    "\n",
    "plt.figure()\n",
    "plt.plot(epochs, loss, \"bo\", label=\"Training_loss\")\n",
    "plt.plot(epochs, val_loss, \"b-\", label=\"validation_loss\")\n",
    "plt.title(\"Training and validation loss\")\n",
    "plt.legend()\n",
    "\n",
    "plt.show()"
   ]
  },
  {
   "cell_type": "markdown",
   "metadata": {},
   "source": [
    "# 사전 훈련된 모델 사용 | 규제 층 추가 ( Dropout 0.5 ) | Flatten 층 제거 | 입력 층 이미지 크기 제한 해제"
   ]
  },
  {
   "cell_type": "code",
   "execution_count": 46,
   "metadata": {},
   "outputs": [],
   "source": [
    "import keras\n",
    "conv_base = keras.applications.InceptionV3(weights=\"imagenet\", include_top=False)\n",
    "# conv_base.trainable = False"
   ]
  },
  {
   "cell_type": "markdown",
   "metadata": {},
   "source": [
    "## 이미지 전처리"
   ]
  },
  {
   "cell_type": "code",
   "execution_count": 47,
   "metadata": {},
   "outputs": [
    {
     "name": "stdout",
     "output_type": "stream",
     "text": [
      "Found 2946 images belonging to 37 classes.\n",
      "Found 734 images belonging to 37 classes.\n",
      "Found 3680 images belonging to 37 classes.\n"
     ]
    }
   ],
   "source": [
    "from tensorflow.keras.preprocessing.image import ImageDataGenerator\n",
    "\n",
    "BATCH_SIZE = 32\n",
    "image_height = 224\n",
    "image_width = 224\n",
    "# 폴더 구조로 카테고리를 분류하기 위해\n",
    "train_dir = '../catdog37/train'\n",
    "test_dir = '../catdog37/test'\n",
    "\n",
    "\n",
    "train = ImageDataGenerator(\n",
    "    rescale = 1./255,\n",
    "    # rotation_range = 10,\n",
    "    # width_shift_range=0.1,\n",
    "    # height_shift_range=0.1,\n",
    "    # shear_range=0.1,\n",
    "    # zoom_range=0.1,\n",
    "    validation_split = 0.2   # 검증 데이터 분할\n",
    "    )\n",
    "    \n",
    "train_generator = train.flow_from_directory(train_dir,\n",
    "                                            target_size = (image_height, image_width),\n",
    "                                            color_mode = 'rgb',\n",
    "                                            batch_size=BATCH_SIZE,\n",
    "                                            seed=1,\n",
    "                                            shuffle=True,\n",
    "                                            class_mode=\"categorical\",\n",
    "                                            subset = 'training')   # training\n",
    "\n",
    "validation_generator = train.flow_from_directory(train_dir,\n",
    "                                            target_size = (image_height, image_width),\n",
    "                                            color_mode = 'rgb',\n",
    "                                            batch_size=BATCH_SIZE,\n",
    "                                            seed=1,\n",
    "                                            shuffle=True,\n",
    "                                            class_mode=\"categorical\",\n",
    "                                            subset = 'validation')   # validation\n",
    "\n",
    "test = ImageDataGenerator(rescale = 1./255)\n",
    "\n",
    "test_generator = train.flow_from_directory(train_dir,\n",
    "                                            target_size = (image_height, image_width),\n",
    "                                            color_mode = 'rgb',\n",
    "                                            batch_size=BATCH_SIZE,\n",
    "                                            seed=1,\n",
    "                                            shuffle=True,\n",
    "                                            class_mode=\"categorical\")"
   ]
  },
  {
   "cell_type": "markdown",
   "metadata": {},
   "source": [
    "## 모델 훈련"
   ]
  },
  {
   "cell_type": "code",
   "execution_count": null,
   "metadata": {},
   "outputs": [],
   "source": [
    "import keras\n",
    "import os\n",
    "import keras\n",
    "\n",
    "conv_base = keras.applications.InceptionV3(weights=\"imagenet\", include_top=False)\n",
    "conv_base.trainable = False\n",
    "\n",
    "inputs = keras.Input(shape=(None, None, 3))\n",
    "#x = keras.applications.inception_v3.preprocess_input(inputs)\n",
    "x = conv_base(inputs)\n",
    "x = keras.layers.GlobalAveragePooling2D()(x)\n",
    "x = keras.layers.Dropout(0.7)(x)\n",
    "# x = keras.layers.Flatten()(x)\n",
    "outputs = keras.layers.Dense(37, activation = \"softmax\")(x)\n",
    "\n",
    "model = keras.Model(inputs, outputs)\n",
    "model.compile(loss = \"categorical_crossentropy\",\n",
    "              optimizer = \"rmsprop\",\n",
    "              metrics=[\"accuracy\"])\n",
    "\n",
    "EPOCHS = 150\n",
    "\n",
    "callbacks = [\n",
    "    keras.callbacks.EarlyStopping(\n",
    "        monitor = 'val_accuracy',\n",
    "        patience = 10,\n",
    "    ),\n",
    "    keras.callbacks.ModelCheckpoint(\n",
    "        filepath=os.path.join(\"C:/Users/ligoan/OneDrive/바탕 화면/I/repository/quest/DLThon/학습한 모델들/my_conv_catdog37_try_7_inceptionV3_no_limit_input_size_dropout_224_224_{epoch:02d}_{val_accuracy:.2f}_{val_loss:.2f}/my_conv_catdog37_try_7_inceptionV3_no_limit_input_size_dropout_224_224_{epoch:02d}_{val_accuracy:.2f}_{val_loss:.2f}.keras\"),\n",
    "        monitor='val_loss',\n",
    "        save_best_only=True\n",
    "    )\n",
    "]\n",
    "\n",
    "fit_history = model.fit(train_generator,\n",
    "                        epochs = EPOCHS,\n",
    "                        validation_data = validation_generator,\n",
    "                        callbacks=callbacks)"
   ]
  },
  {
   "cell_type": "markdown",
   "metadata": {},
   "source": [
    "## 학습 곡선"
   ]
  },
  {
   "cell_type": "code",
   "execution_count": null,
   "metadata": {},
   "outputs": [],
   "source": [
    "import matplotlib.pyplot as plt\n",
    "\n",
    "accuracy = fit_history.history[\"accuracy\"]\n",
    "val_accuracy = fit_history.history[\"val_accuracy\"]\n",
    "loss = fit_history.history[\"loss\"]\n",
    "val_loss = fit_history.history[\"val_loss\"]\n",
    "epochs = range(1, len(accuracy)+1)\n",
    "\n",
    "plt.plot(epochs, accuracy, \"bo\", label=\"Training_accuracy\")\n",
    "plt.plot(epochs, val_accuracy, \"b-\", label=\"validation_accuracy\")\n",
    "plt.title(\"Training and validation accuracy\")\n",
    "plt.legend()\n",
    "\n",
    "plt.figure()\n",
    "plt.plot(epochs, loss, \"bo\", label=\"Training_loss\")\n",
    "plt.plot(epochs, val_loss, \"b-\", label=\"validation_loss\")\n",
    "plt.title(\"Training and validation loss\")\n",
    "plt.legend()\n",
    "\n",
    "plt.show()"
   ]
  },
  {
   "cell_type": "markdown",
   "metadata": {},
   "source": [
    "# 사전 훈련된 모델에 데이터 증식 사용하기"
   ]
  },
  {
   "cell_type": "code",
   "execution_count": 1,
   "metadata": {},
   "outputs": [
    {
     "name": "stderr",
     "output_type": "stream",
     "text": [
      "Using TensorFlow backend.\n"
     ]
    }
   ],
   "source": [
    "import keras\n",
    "conv_base = keras.applications.InceptionV3(weights=\"imagenet\", include_top=False)\n",
    "# conv_base.trainable = False"
   ]
  },
  {
   "cell_type": "markdown",
   "metadata": {},
   "source": [
    "## 이미지 증식"
   ]
  },
  {
   "cell_type": "code",
   "execution_count": 8,
   "metadata": {},
   "outputs": [
    {
     "name": "stdout",
     "output_type": "stream",
     "text": [
      "Found 3680 files belonging to 2 classes.\n",
      "Using 2944 files for training.\n",
      "Found 3680 files belonging to 2 classes.\n",
      "Using 736 files for validation.\n",
      "Found 3669 files belonging to 2 classes.\n"
     ]
    }
   ],
   "source": [
    "import tensorflow as tf\n",
    "from keras import layers\n",
    "from tensorflow.keras.preprocessing import image_dataset_from_directory\n",
    "\n",
    "BATCH_SIZE = 32\n",
    "IMAGE_HEIGHT = 224\n",
    "IMAGE_WIDTH = 224\n",
    "\n",
    "data_augmentation = tf.keras.Sequential(\n",
    "    [\n",
    "        layers.experimental.preprocessing.RandomFlip(\"horizontal_and_vertical\"),\n",
    "        layers.experimental.preprocessing.RandomRotation(0.1),\n",
    "        layers.experimental.preprocessing.RandomTranslation(0.1, 0.1),\n",
    "        layers.experimental.preprocessing.RandomZoom(0.2)\n",
    "    ]\n",
    ")\n",
    "\n",
    "\n",
    "\n",
    "TRAIN_DIR = '../catdog/train'\n",
    "TEST_DIR = '../catdog/test'\n",
    "\n",
    "train_ds = tf.keras.preprocessing.image_dataset_from_directory(\n",
    "    TRAIN_DIR,\n",
    "    image_size=(IMAGE_HEIGHT, IMAGE_WIDTH),\n",
    "    batch_size=BATCH_SIZE,\n",
    "    label_mode='categorical',\n",
    "    validation_split=0.2,\n",
    "    subset=\"training\",\n",
    "    seed=123\n",
    ")\n",
    "\n",
    "val_ds = tf.keras.preprocessing.image_dataset_from_directory(\n",
    "    TRAIN_DIR,\n",
    "    image_size=(IMAGE_HEIGHT, IMAGE_WIDTH),\n",
    "    batch_size=BATCH_SIZE,\n",
    "    label_mode='categorical',\n",
    "    validation_split=0.2,\n",
    "    subset=\"validation\",\n",
    "    seed=123\n",
    ")\n",
    "\n",
    "test_ds = image_dataset_from_directory(\n",
    "    TEST_DIR,\n",
    "    image_size=(IMAGE_HEIGHT, IMAGE_WIDTH),\n",
    "    batch_size=BATCH_SIZE,\n",
    ")\n",
    "\n",
    "train_ds = train_ds.prefetch(BATCH_SIZE)\n",
    "val_ds = train_ds.prefetch(BATCH_SIZE)\n",
    "test_ds = test_ds.prefetch(BATCH_SIZE)"
   ]
  },
  {
   "cell_type": "markdown",
   "metadata": {},
   "source": [
    "## 모델 훈련"
   ]
  },
  {
   "cell_type": "code",
   "execution_count": null,
   "metadata": {},
   "outputs": [],
   "source": [
    "import keras\n",
    "import os\n",
    "import keras\n",
    "\n",
    "conv_base = keras.applications.InceptionV3(weights=\"imagenet\", include_top=False)\n",
    "conv_base.trainable = False\n",
    "\n",
    "inputs = keras.Input(shape=(None, None, 3))\n",
    "x = data_augmentation(inputs)\n",
    "x = layers.experimental.preprocessing.Rescaling(1./255)(x)\n",
    "#x = keras.applications.inception_v3.preprocess_input(inputs)\n",
    "x = conv_base(x)\n",
    "x = keras.layers.GlobalAveragePooling2D()(x)\n",
    "# x = keras.layers.Dropout(0.5)(x)\n",
    "# x = keras.layers.Flatten()(x)\n",
    "outputs = keras.layers.Dense(37, activation = \"softmax\")(x)\n",
    "\n",
    "model = keras.Model(inputs, outputs)\n",
    "model.compile(loss = \"categorical_crossentropy\",\n",
    "              optimizer = \"rmsprop\",\n",
    "              metrics=[\"accuracy\"])\n",
    "\n",
    "EPOCHS = 150\n",
    "\n",
    "callbacks = [\n",
    "    keras.callbacks.EarlyStopping(\n",
    "        monitor = 'val_accuracy',\n",
    "        patience = 10,\n",
    "    ),\n",
    "    keras.callbacks.ModelCheckpoint(\n",
    "        filepath=os.path.join(\"C:/Users/ligoan/OneDrive/바탕 화면/I/repository/quest/DLThon/학습한 모델들/my_conv_catdog37_try_8_inceptionV3_image_aug_no_limit_input_size_224_224_{epoch:02d}_{val_accuracy:.2f}_{val_loss:.2f}/my_conv_catdog37_try_6_inceptionV3__image_aug_no_limit_input_size_224_224_{epoch:02d}_{val_accuracy:.2f}_{val_loss:.2f}.keras\"),\n",
    "        monitor='val_loss',\n",
    "        save_best_only=True\n",
    "    )\n",
    "]\n",
    "\n",
    "fit_history = model.fit(train_ds,\n",
    "                        epochs = EPOCHS,\n",
    "                        validation_data = val_ds,\n",
    "                        callbacks=callbacks)"
   ]
  },
  {
   "cell_type": "markdown",
   "metadata": {},
   "source": [
    "## 모델 평가"
   ]
  },
  {
   "cell_type": "code",
   "execution_count": 18,
   "metadata": {},
   "outputs": [],
   "source": [
    "import keras\n",
    "import os\n",
    "import numpy as np\n",
    "import pandas as pd\n",
    "import matplotlib.pyplot as plt\n",
    "import seaborn as sns\n",
    "from sklearn.metrics import confusion_matrix, accuracy_score\n",
    "\n",
    "# 모델 파일 경로\n",
    "model_path = 'C:/Users/ligoan/OneDrive/바탕 화면/I/repository/quest/DLThon/학습한 모델들/my_conv_catdog37_try_8_inceptionV3_image_aug_no_limit_input_size_224_224_75_0.97_0.10/my_conv_catdog37_try_6_inceptionV3__image_aug_no_limit_input_size_224_224_75_0.97_0.10.keras'\n",
    "\n",
    "# 모델 로드\n",
    "test_model = keras.models.load_model(model_path)\n",
    "\n",
    "# 테스트 데이터 예측\n",
    "predictions = test_model.predict(test_ds)"
   ]
  },
  {
   "cell_type": "code",
   "execution_count": 22,
   "metadata": {},
   "outputs": [
    {
     "data": {
      "text/plain": [
       "(3669,)"
      ]
     },
     "execution_count": 22,
     "metadata": {},
     "output_type": "execute_result"
    }
   ],
   "source": [
    "predicted_labels.shape"
   ]
  },
  {
   "cell_type": "code",
   "execution_count": 21,
   "metadata": {},
   "outputs": [
    {
     "data": {
      "image/png": "[encoded data removed]",
      "text/plain": [
       "<Figure size 1000x800 with 1 Axes>"
      ]
     },
     "metadata": {},
     "output_type": "display_data"
    }
   ],
   "source": [
    "predicted_labels = np.argmax(predictions, axis=1)\n",
    "\n",
    "# 실제 레이블 가져오기\n",
    "true_labels = np.concatenate([y for x, y in test_ds], axis=0)\n",
    "\n",
    "# 혼동 행렬 생성\n",
    "conf_matrix = confusion_matrix(true_labels, predicted_labels)\n",
    "\n",
    "# 혼동 행렬 시각화\n",
    "plt.figure(figsize=(10, 8))\n",
    "ax = sns.heatmap(conf_matrix, annot=True, fmt='d', cmap='Reds', cbar=False)\n",
    "\n",
    "# x축과 y축 레이블 설정\n",
    "ax.set_xlabel('Predicted Labels')\n",
    "ax.set_ylabel('True Labels')\n",
    "\n",
    "# x축 레이블을 타이틀 바로 아래로 이동\n",
    "ax.xaxis.set_label_position('top')\n",
    "ax.xaxis.tick_top()\n",
    "\n",
    "plt.title('Confusion Matrix')\n",
    "plt.show()"
   ]
  },
  {
   "cell_type": "markdown",
   "metadata": {},
   "source": [
    "# 이미지 증식과 드롭아웃을 포함한 컨브넷 만들기"
   ]
  },
  {
   "cell_type": "code",
   "execution_count": 7,
   "metadata": {},
   "outputs": [],
   "source": [
    "import keras\n",
    "import tensorflow as tf\n",
    "from keras import layers"
   ]
  },
  {
   "cell_type": "code",
   "execution_count": 8,
   "metadata": {},
   "outputs": [],
   "source": [
    "inputs = keras.Input(shape=(IMAGE_HEIGHT, IMAGE_WIDTH, 3))\n",
    "x = data_augmentation(inputs)\n",
    "x = layers.experimental.preprocessing.Rescaling(1./255)(x)\n",
    "x = layers.Conv2D(filters=32, kernel_size=3, activation='relu')(inputs)\n",
    "x = layers.MaxPooling2D(pool_size=2)(x)\n",
    "x = layers.Conv2D(filters=64, kernel_size=3, activation='relu')(x)\n",
    "x = layers.MaxPooling2D(pool_size=2)(x)\n",
    "x = layers.Conv2D(filters=128, kernel_size=3, activation='relu')(x)\n",
    "x = layers.MaxPooling2D(pool_size=2)(x)\n",
    "x = layers.Conv2D(filters=256, kernel_size=3, activation='relu')(x)\n",
    "x = layers.MaxPooling2D(pool_size=2)(x)\n",
    "x = layers.Conv2D(filters=256, kernel_size=3, activation='relu')(x)\n",
    "x = layers.MaxPooling2D(pool_size=2)(x)\n",
    "x = layers.Flatten()(x)\n",
    "x = layers.Dropout(0.5)(x)\n",
    "outputs = layers.Dense(1, activation='sigmoid')(x)\n",
    "\n",
    "model = keras.Model(inputs = inputs, outputs = outputs)\n",
    "\n",
    "model.compile(loss='binary_crossentropy',\n",
    "              optimizer='rmsprop',\n",
    "              metrics=['accuracy'])"
   ]
  },
  {
   "cell_type": "code",
   "execution_count": 9,
   "metadata": {},
   "outputs": [
    {
     "name": "stdout",
     "output_type": "stream",
     "text": [
      "Model: \"model\"\n",
      "_________________________________________________________________\n",
      "Layer (type)                 Output Shape              Param #   \n",
      "=================================================================\n",
      "input_1 (InputLayer)         [(None, 500, 500, 3)]     0         \n",
      "_________________________________________________________________\n",
      "conv2d (Conv2D)              (None, 498, 498, 32)      896       \n",
      "_________________________________________________________________\n",
      "max_pooling2d (MaxPooling2D) (None, 249, 249, 32)      0         \n",
      "_________________________________________________________________\n",
      "conv2d_1 (Conv2D)            (None, 247, 247, 64)      18496     \n",
      "_________________________________________________________________\n",
      "max_pooling2d_1 (MaxPooling2 (None, 123, 123, 64)      0         \n",
      "_________________________________________________________________\n",
      "conv2d_2 (Conv2D)            (None, 121, 121, 128)     73856     \n",
      "_________________________________________________________________\n",
      "max_pooling2d_2 (MaxPooling2 (None, 60, 60, 128)       0         \n",
      "_________________________________________________________________\n",
      "conv2d_3 (Conv2D)            (None, 58, 58, 256)       295168    \n",
      "_________________________________________________________________\n",
      "max_pooling2d_3 (MaxPooling2 (None, 29, 29, 256)       0         \n",
      "_________________________________________________________________\n",
      "conv2d_4 (Conv2D)            (None, 27, 27, 256)       590080    \n",
      "_________________________________________________________________\n",
      "max_pooling2d_4 (MaxPooling2 (None, 13, 13, 256)       0         \n",
      "_________________________________________________________________\n",
      "flatten (Flatten)            (None, 43264)             0         \n",
      "_________________________________________________________________\n",
      "dropout (Dropout)            (None, 43264)             0         \n",
      "_________________________________________________________________\n",
      "dense (Dense)                (None, 1)                 43265     \n",
      "=================================================================\n",
      "Total params: 1,021,761\n",
      "Trainable params: 1,021,761\n",
      "Non-trainable params: 0\n",
      "_________________________________________________________________\n"
     ]
    }
   ],
   "source": [
    "model.summary()"
   ]
  },
  {
   "cell_type": "markdown",
   "metadata": {},
   "source": [
    "# 규제를 추가한 컨브넷 훈련"
   ]
  },
  {
   "cell_type": "code",
   "execution_count": 1,
   "metadata": {},
   "outputs": [
    {
     "ename": "KeyboardInterrupt",
     "evalue": "",
     "output_type": "error",
     "traceback": [
      "\u001b[1;31m---------------------------------------------------------------------------\u001b[0m",
      "\u001b[1;31mKeyboardInterrupt\u001b[0m                         Traceback (most recent call last)",
      "Cell \u001b[1;32mIn[1], line 2\u001b[0m\n\u001b[0;32m      1\u001b[0m \u001b[38;5;28;01mimport\u001b[39;00m \u001b[38;5;21;01mos\u001b[39;00m\n\u001b[1;32m----> 2\u001b[0m \u001b[38;5;28;01mimport\u001b[39;00m \u001b[38;5;21;01mkeras\u001b[39;00m\n\u001b[0;32m      4\u001b[0m EPOCHS \u001b[38;5;241m=\u001b[39m \u001b[38;5;241m100\u001b[39m\n\u001b[0;32m      6\u001b[0m callbacks \u001b[38;5;241m=\u001b[39m [\n\u001b[0;32m      7\u001b[0m     keras\u001b[38;5;241m.\u001b[39mcallbacks\u001b[38;5;241m.\u001b[39mEarlyStopping(\n\u001b[0;32m      8\u001b[0m         monitor \u001b[38;5;241m=\u001b[39m \u001b[38;5;124m'\u001b[39m\u001b[38;5;124mval_accuracy\u001b[39m\u001b[38;5;124m'\u001b[39m,\n\u001b[1;32m   (...)\u001b[0m\n\u001b[0;32m     15\u001b[0m     )\n\u001b[0;32m     16\u001b[0m ]\n",
      "File \u001b[1;32mc:\\Users\\ligoan\\anaconda3\\envs\\dlthon\\lib\\site-packages\\keras\\__init__.py:1\u001b[0m\n\u001b[1;32m----> 1\u001b[0m \u001b[38;5;28;01mfrom\u001b[39;00m \u001b[38;5;21;01m.\u001b[39;00m \u001b[38;5;28;01mimport\u001b[39;00m utils\n\u001b[0;32m      2\u001b[0m \u001b[38;5;28;01mfrom\u001b[39;00m \u001b[38;5;21;01m.\u001b[39;00m \u001b[38;5;28;01mimport\u001b[39;00m activations\n\u001b[0;32m      3\u001b[0m \u001b[38;5;28;01mfrom\u001b[39;00m \u001b[38;5;21;01m.\u001b[39;00m \u001b[38;5;28;01mimport\u001b[39;00m applications\n",
      "File \u001b[1;32mc:\\Users\\ligoan\\anaconda3\\envs\\dlthon\\lib\\site-packages\\keras\\utils\\__init__.py:1\u001b[0m\n\u001b[1;32m----> 1\u001b[0m \u001b[38;5;28;01mfrom\u001b[39;00m \u001b[38;5;21;01mtensorflow\u001b[39;00m\u001b[38;5;21;01m.\u001b[39;00m\u001b[38;5;21;01mkeras\u001b[39;00m\u001b[38;5;21;01m.\u001b[39;00m\u001b[38;5;21;01mutils\u001b[39;00m \u001b[38;5;28;01mimport\u001b[39;00m \u001b[38;5;241m*\u001b[39m\n",
      "File \u001b[1;32mc:\\Users\\ligoan\\anaconda3\\envs\\dlthon\\lib\\site-packages\\tensorflow\\__init__.py:41\u001b[0m\n\u001b[0;32m     38\u001b[0m \u001b[38;5;28;01mimport\u001b[39;00m \u001b[38;5;21;01msix\u001b[39;00m \u001b[38;5;28;01mas\u001b[39;00m \u001b[38;5;21;01m_six\u001b[39;00m\n\u001b[0;32m     39\u001b[0m \u001b[38;5;28;01mimport\u001b[39;00m \u001b[38;5;21;01msys\u001b[39;00m \u001b[38;5;28;01mas\u001b[39;00m \u001b[38;5;21;01m_sys\u001b[39;00m\n\u001b[1;32m---> 41\u001b[0m \u001b[38;5;28;01mfrom\u001b[39;00m \u001b[38;5;21;01mtensorflow\u001b[39;00m\u001b[38;5;21;01m.\u001b[39;00m\u001b[38;5;21;01mpython\u001b[39;00m\u001b[38;5;21;01m.\u001b[39;00m\u001b[38;5;21;01mtools\u001b[39;00m \u001b[38;5;28;01mimport\u001b[39;00m module_util \u001b[38;5;28;01mas\u001b[39;00m _module_util\n\u001b[0;32m     42\u001b[0m \u001b[38;5;28;01mfrom\u001b[39;00m \u001b[38;5;21;01mtensorflow\u001b[39;00m\u001b[38;5;21;01m.\u001b[39;00m\u001b[38;5;21;01mpython\u001b[39;00m\u001b[38;5;21;01m.\u001b[39;00m\u001b[38;5;21;01mutil\u001b[39;00m\u001b[38;5;21;01m.\u001b[39;00m\u001b[38;5;21;01mlazy_loader\u001b[39;00m \u001b[38;5;28;01mimport\u001b[39;00m LazyLoader \u001b[38;5;28;01mas\u001b[39;00m _LazyLoader\n\u001b[0;32m     44\u001b[0m \u001b[38;5;66;03m# Make sure code inside the TensorFlow codebase can use tf2.enabled() at import.\u001b[39;00m\n",
      "File \u001b[1;32mc:\\Users\\ligoan\\anaconda3\\envs\\dlthon\\lib\\site-packages\\tensorflow\\python\\__init__.py:133\u001b[0m\n\u001b[0;32m    131\u001b[0m \u001b[38;5;66;03m# TensorFlow Debugger (tfdbg).\u001b[39;00m\n\u001b[0;32m    132\u001b[0m \u001b[38;5;28;01mfrom\u001b[39;00m \u001b[38;5;21;01mtensorflow\u001b[39;00m\u001b[38;5;21;01m.\u001b[39;00m\u001b[38;5;21;01mpython\u001b[39;00m\u001b[38;5;21;01m.\u001b[39;00m\u001b[38;5;21;01mdebug\u001b[39;00m\u001b[38;5;21;01m.\u001b[39;00m\u001b[38;5;21;01mlib\u001b[39;00m \u001b[38;5;28;01mimport\u001b[39;00m check_numerics_callback\n\u001b[1;32m--> 133\u001b[0m \u001b[38;5;28;01mfrom\u001b[39;00m \u001b[38;5;21;01mtensorflow\u001b[39;00m\u001b[38;5;21;01m.\u001b[39;00m\u001b[38;5;21;01mpython\u001b[39;00m\u001b[38;5;21;01m.\u001b[39;00m\u001b[38;5;21;01mdebug\u001b[39;00m\u001b[38;5;21;01m.\u001b[39;00m\u001b[38;5;21;01mlib\u001b[39;00m \u001b[38;5;28;01mimport\u001b[39;00m dumping_callback\n\u001b[0;32m    134\u001b[0m \u001b[38;5;28;01mfrom\u001b[39;00m \u001b[38;5;21;01mtensorflow\u001b[39;00m\u001b[38;5;21;01m.\u001b[39;00m\u001b[38;5;21;01mpython\u001b[39;00m\u001b[38;5;21;01m.\u001b[39;00m\u001b[38;5;21;01mops\u001b[39;00m \u001b[38;5;28;01mimport\u001b[39;00m gen_debug_ops\n\u001b[0;32m    136\u001b[0m \u001b[38;5;66;03m# DLPack\u001b[39;00m\n",
      "File \u001b[1;32mc:\\Users\\ligoan\\anaconda3\\envs\\dlthon\\lib\\site-packages\\tensorflow\\python\\debug\\lib\\dumping_callback.py:34\u001b[0m\n\u001b[0;32m     32\u001b[0m \u001b[38;5;28;01mfrom\u001b[39;00m \u001b[38;5;21;01mtensorflow\u001b[39;00m\u001b[38;5;21;01m.\u001b[39;00m\u001b[38;5;21;01mcore\u001b[39;00m\u001b[38;5;21;01m.\u001b[39;00m\u001b[38;5;21;01mprotobuf\u001b[39;00m \u001b[38;5;28;01mimport\u001b[39;00m graph_debug_info_pb2\n\u001b[0;32m     33\u001b[0m \u001b[38;5;28;01mfrom\u001b[39;00m \u001b[38;5;21;01mtensorflow\u001b[39;00m\u001b[38;5;21;01m.\u001b[39;00m\u001b[38;5;21;01mpython\u001b[39;00m\u001b[38;5;21;01m.\u001b[39;00m\u001b[38;5;21;01mcompat\u001b[39;00m \u001b[38;5;28;01mimport\u001b[39;00m compat \u001b[38;5;28;01mas\u001b[39;00m tf_compat\n\u001b[1;32m---> 34\u001b[0m \u001b[38;5;28;01mfrom\u001b[39;00m \u001b[38;5;21;01mtensorflow\u001b[39;00m\u001b[38;5;21;01m.\u001b[39;00m\u001b[38;5;21;01mpython\u001b[39;00m\u001b[38;5;21;01m.\u001b[39;00m\u001b[38;5;21;01mdebug\u001b[39;00m\u001b[38;5;21;01m.\u001b[39;00m\u001b[38;5;21;01mlib\u001b[39;00m \u001b[38;5;28;01mimport\u001b[39;00m debug_events_writer\n\u001b[0;32m     35\u001b[0m \u001b[38;5;28;01mfrom\u001b[39;00m \u001b[38;5;21;01mtensorflow\u001b[39;00m\u001b[38;5;21;01m.\u001b[39;00m\u001b[38;5;21;01mpython\u001b[39;00m\u001b[38;5;21;01m.\u001b[39;00m\u001b[38;5;21;01mdebug\u001b[39;00m\u001b[38;5;21;01m.\u001b[39;00m\u001b[38;5;21;01mlib\u001b[39;00m \u001b[38;5;28;01mimport\u001b[39;00m op_callbacks_common\n\u001b[0;32m     36\u001b[0m \u001b[38;5;28;01mfrom\u001b[39;00m \u001b[38;5;21;01mtensorflow\u001b[39;00m\u001b[38;5;21;01m.\u001b[39;00m\u001b[38;5;21;01mpython\u001b[39;00m\u001b[38;5;21;01m.\u001b[39;00m\u001b[38;5;21;01mdebug\u001b[39;00m\u001b[38;5;21;01m.\u001b[39;00m\u001b[38;5;21;01mlib\u001b[39;00m \u001b[38;5;28;01mimport\u001b[39;00m source_utils\n",
      "File \u001b[1;32mc:\\Users\\ligoan\\anaconda3\\envs\\dlthon\\lib\\site-packages\\tensorflow\\python\\debug\\lib\\debug_events_writer.py:24\u001b[0m\n\u001b[0;32m     21\u001b[0m \u001b[38;5;28;01mimport\u001b[39;00m \u001b[38;5;21;01mtime\u001b[39;00m\n\u001b[0;32m     23\u001b[0m \u001b[38;5;28;01mfrom\u001b[39;00m \u001b[38;5;21;01mtensorflow\u001b[39;00m\u001b[38;5;21;01m.\u001b[39;00m\u001b[38;5;21;01mcore\u001b[39;00m\u001b[38;5;21;01m.\u001b[39;00m\u001b[38;5;21;01mprotobuf\u001b[39;00m \u001b[38;5;28;01mimport\u001b[39;00m debug_event_pb2\n\u001b[1;32m---> 24\u001b[0m \u001b[38;5;28;01mfrom\u001b[39;00m \u001b[38;5;21;01mtensorflow\u001b[39;00m\u001b[38;5;21;01m.\u001b[39;00m\u001b[38;5;21;01mpython\u001b[39;00m \u001b[38;5;28;01mimport\u001b[39;00m _pywrap_debug_events_writer\n\u001b[0;32m     26\u001b[0m \u001b[38;5;66;03m# Default size of each circular buffer (unit: number of DebugEvent protos).\u001b[39;00m\n\u001b[0;32m     27\u001b[0m DEFAULT_CIRCULAR_BUFFER_SIZE \u001b[38;5;241m=\u001b[39m \u001b[38;5;241m1000\u001b[39m\n",
      "\u001b[1;31mKeyboardInterrupt\u001b[0m: "
     ]
    }
   ],
   "source": [
    "import os\n",
    "import keras\n",
    "\n",
    "EPOCHS = 100\n",
    "\n",
    "callbacks = [\n",
    "    keras.callbacks.EarlyStopping(\n",
    "        monitor = 'val_accuracy',\n",
    "        patience = 6,\n",
    "    ),\n",
    "    keras.callbacks.ModelCheckpoint(\n",
    "        filepath=os.path.join(\"../학습한 모델들/\", \"my_conv_try_2_{epoch:02d}_{val_accuracy:.2f}_{val_loss:.2f}.keras\"),\n",
    "        monitor='val_loss',\n",
    "        save_best_only=True\n",
    "    )\n",
    "]"
   ]
  },
  {
   "cell_type": "code",
   "execution_count": null,
   "metadata": {},
   "outputs": [],
   "source": [
    "fit_history = model.fit(train_ds,\n",
    "                        epochs=EPOCHS,\n",
    "                        validation_data=val_ds,\n",
    "                        callbacks=callbacks)"
   ]
  },
  {
   "cell_type": "markdown",
   "metadata": {},
   "source": [
    "# 학습 곡선"
   ]
  },
  {
   "cell_type": "code",
   "execution_count": 19,
   "metadata": {},
   "outputs": [
    {
     "data": {
      "image/png": "[encoded data removed]",
      "text/plain": [
       "<Figure size 640x480 with 1 Axes>"
      ]
     },
     "metadata": {},
     "output_type": "display_data"
    },
    {
     "data": {
      "image/png": "[encoded data removed]",
      "text/plain": [
       "<Figure size 640x480 with 1 Axes>"
      ]
     },
     "metadata": {},
     "output_type": "display_data"
    }
   ],
   "source": [
    "import matplotlib.pyplot as plt\n",
    "\n",
    "accuracy = fit_history.history[\"accuracy\"]\n",
    "val_accuracy = fit_history.history[\"val_accuracy\"]\n",
    "loss = fit_history.history[\"loss\"]\n",
    "val_loss = fit_history.history[\"val_loss\"]\n",
    "epochs = range(1, len(accuracy)+1)\n",
    "\n",
    "plt.plot(epochs, accuracy, \"bo\", label=\"Training_accuracy\")\n",
    "plt.plot(epochs, val_accuracy, \"b-\", label=\"validation_accuracy\")\n",
    "plt.title(\"Training and validation accuracy\")\n",
    "plt.legend()\n",
    "\n",
    "plt.figure()\n",
    "plt.plot(epochs, loss, \"bo\", label=\"Training_loss\")\n",
    "plt.plot(epochs, val_loss, \"b-\", label=\"validation_loss\")\n",
    "plt.title(\"Training and validation loss\")\n",
    "plt.legend()\n",
    "\n",
    "plt.show()"
   ]
  },
  {
   "cell_type": "markdown",
   "metadata": {},
   "source": [
    "# 모델 평가"
   ]
  },
  {
   "cell_type": "code",
   "execution_count": 8,
   "metadata": {},
   "outputs": [
    {
     "name": "stdout",
     "output_type": "stream",
     "text": [
      "123/123 [==============================] - 24s 147ms/step - loss: 0.0178 - accuracy: 0.9929\n",
      "테스트 정확도: 0.993\n",
      "테스트 손실: 0.018\n"
     ]
    }
   ],
   "source": [
    "test_model = keras.models.load_model('../학습한 모델들/my_conv_try_2_46_0.99_0.02/my_conv_try_2_46_0.99_0.02.keras')\n",
    "test_loss, test_acc = test_model.evaluate(test_ds)\n",
    "print(f'테스트 정확도: {test_acc:.3f}')\n",
    "print(f'테스트 손실: {test_loss:.3f}')"
   ]
  }
 ],
 "metadata": {
  "kernelspec": {
   "display_name": "Python 3",
   "language": "python",
   "name": "python3"
  },
  "language_info": {
   "codemirror_mode": {
    "name": "ipython",
    "version": 3
   },
   "file_extension": ".py",
   "mimetype": "text/x-python",
   "name": "python",
   "nbconvert_exporter": "python",
   "pygments_lexer": "ipython3",
   "version": "3.8.19"
  }
 },
 "nbformat": 4,
 "nbformat_minor": 2
}
