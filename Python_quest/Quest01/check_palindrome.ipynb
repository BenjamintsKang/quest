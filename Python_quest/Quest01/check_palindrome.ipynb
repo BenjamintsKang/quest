{
  "nbformat": 4,
  "nbformat_minor": 0,
  "metadata": {
    "colab": {
      "provenance": []
    },
    "kernelspec": {
      "name": "python3",
      "display_name": "Python 3"
    },
    "language_info": {
      "name": "python"
    }
  },
  "cells": [
    {
      "cell_type": "code",
      "execution_count": null,
      "metadata": {
        "id": "AIa9FEkUHTUF"
      },
      "outputs": [],
      "source": []
    },
    {
      "cell_type": "markdown",
      "source": [
        "# 회문 판별하기"
      ],
      "metadata": {
        "id": "WV0i067EXAYk"
      }
    },
    {
      "cell_type": "code",
      "source": [
        "# 회문 판별 함수\n",
        "def check_palindrome(word):\n",
        "  word_length = len(word) # 낱말 길이\n",
        "  end = word_length - 1 # 낱말 끝 인덱스\n",
        "  for i in range(word_length // 2): # 낱말 가운데를 기준으로 대칭성 확인 (2로 나눠 떨어지는 숫자만큼 아래를 실행한다)\n",
        "    if word[i] == word[end - i]: # 이 낱말과 이에 대응하는 낱말이 같다면:\n",
        "      pass # 패스\n",
        "    else: # 다르면\n",
        "      return False # False\n",
        "\n",
        "  return True # 낱말이 대칭이면 (정한 횟수만큼 확인 후 모두 pass 였으면,) True"
      ],
      "metadata": {
        "id": "W6AtyfCuNnIC"
      },
      "execution_count": null,
      "outputs": []
    },
    {
      "cell_type": "markdown",
      "source": [
        "토마토(0, 1, 2)\n",
        "word_length = 3\n",
        "end = 2\n",
        "\n",
        "range(3 // 2 == 1)\n",
        "토 마 토\n",
        "word[0] = word[1]\n",
        "\n",
        "와구 와구\n",
        "range( 4 // 2 == 2)\n",
        "range(2)\n",
        "0, 1\n",
        "0 3"
      ],
      "metadata": {
        "id": "Tdn5lfpNVwvx"
      }
    },
    {
      "cell_type": "code",
      "source": [
        "# 회문 확인 프로그램\n",
        "\n",
        "\n",
        "# 입력 받고\n",
        "word = input(\"낱말을 입력하세요: \")\n",
        "print(word + \"를(을) 입력하셨습니다.\")\n",
        "\n",
        "# print(check_palindrome(word))\n",
        "\n",
        "if check_palindrome(word) == True:\n",
        "  print(\"입력하신 낱말은 회문입니다.\")\n",
        "else:\n",
        "  print(\"입력하신 낱말은 회문이 아닙니다.\")"
      ],
      "metadata": {
        "id": "IWUTImmMJgc_",
        "colab": {
          "base_uri": "https://localhost:8080/"
        },
        "outputId": "223ee6d4-8346-43cc-9da1-da617521c57d"
      },
      "execution_count": null,
      "outputs": [
        {
          "output_type": "stream",
          "name": "stdout",
          "text": [
            "낱말을 입력하세요: 우영우\n",
            "우영우를(을) 입력하셨습니다.\n",
            "입력하신 낱말은 회문입니다.\n"
          ]
        }
      ]
    },
    {
      "cell_type": "code",
      "source": [
        "'''\n",
        "회고\n",
        "\n",
        "어려웠습니다. 재미있었습니다.\n",
        "처음에 하려고 했던 방식이 실패해서 다른 방식으로 설계했지만\n",
        "재민님과 의견을 일치하는 과정이 의미있었습니다.\n",
        "\n",
        "'''"
      ],
      "metadata": {
        "id": "CZ0z3WMjsUM2"
      },
      "execution_count": null,
      "outputs": []
    }
  ]
}