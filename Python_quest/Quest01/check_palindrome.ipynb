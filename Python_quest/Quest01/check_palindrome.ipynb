{
  "nbformat": 4,
  "nbformat_minor": 0,
  "metadata": {
    "colab": {
      "provenance": []
    },
    "kernelspec": {
      "name": "python3",
      "display_name": "Python 3"
    },
    "language_info": {
      "name": "python"
    }
  },
  "cells": [
    {
      "cell_type": "code",
      "source": [
        "def check_palindrome(word):\n",
        "  word_length = len(word)\n",
        "  end = word_length - 1\n",
        "  for i in range(word_length // 2): # 입력 글자수 확인 (짝/홀)\n",
        "    if word[i] == word[end - i]:\n",
        "      pass\n",
        "    else:\n",
        "      return False\n",
        "\n",
        "  return True"
      ],
      "metadata": {
        "id": "W6AtyfCuNnIC"
      },
      "execution_count": null,
      "outputs": []
    },
    {
      "cell_type": "code",
      "source": [
        "# 회문 확인 프로그램\n",
        "\n",
        "\n",
        "# 입력 받고\n",
        "word = input(\"낱말을 입력하세요: \")\n",
        "print(word + \"를(을) 입력하셨습니다.\")\n",
        "\n",
        "# print(check_palindrome(word))\n",
        "\n",
        "if check_palindrome(word) == True:\n",
        "  print(\"입력하신 낱말은 회문입니다.\")\n",
        "else:\n",
        "  print(\"입력하신 낱말은 회문이 아닙니다.\")"
      ],
      "metadata": {
        "id": "IWUTImmMJgc_",
        "colab": {
          "base_uri": "https://localhost:8080/"
        },
        "outputId": "cfaeee60-3477-46f7-bd1d-718e2f212870"
      },
      "execution_count": null,
      "outputs": [
        {
          "output_type": "stream",
          "name": "stdout",
          "text": [
            "낱말을 입력하세요: 김재이\n",
            "김재이를(을) 입력하셨습니다.\n",
            "입력하신 낱말은 회문이 아닙니다.\n"
          ]
        }
      ]
    },
    {
      "cell_type": "markdown",
      "source": [
        "def ch_palindrome(word):\n",
        "\tw_length = len(word)\n",
        "\tfor i in (range(w_length // 2)):\n",
        "\t\tif word[i] == word[len(word) - 1 - i]\n"
      ],
      "metadata": {
        "id": "hA0W5ysSPsYv"
      }
    }
  ]
}