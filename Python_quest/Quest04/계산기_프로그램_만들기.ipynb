{
  "nbformat": 4,
  "nbformat_minor": 0,
  "metadata": {
    "colab": {
      "provenance": []
    },
    "kernelspec": {
      "name": "python3",
      "display_name": "Python 3"
    },
    "language_info": {
      "name": "python"
    }
  },
  "cells": [
    {
      "cell_type": "markdown",
      "source": [
        "# 회고  \n",
        "* 어렵지만 재미있습니다.\n",
        "* 반복문과 예외처리의 결합을 다시 고민해보고 싶습니다."
      ],
      "metadata": {
        "id": "_PF-BCUVi9_5"
      }
    },
    {
      "cell_type": "code",
      "source": [
        "#1. 입력받은 값이 정수가 아닌 경우 ValueError\n",
        "#2. 정수가 입력받을때 까지 다시 입력받기.\n",
        "#3. 연산에러처리(0으로 나누기)\n",
        "  #3.1 연산자 에러처리(적합하지 못한 연산자)\n",
        "#4. 제곱연산\n",
        "#5. 계산기\n",
        "\n",
        "\n",
        "\n",
        "#숫자입력을 받는 부분입니다.\n",
        "'''\n",
        "기본적인 메커니즘은 아래와 같습니다.\n",
        "1. 숫자를 입력받는 함수와 연산자를 입력받는 함수, 연산하는 함수를 분리합니다.\n",
        "2. 분리된 각각의 함수에서 원하는 값이 나올때까지 반복시킵니다.\n",
        "\n",
        "3. 올바른 값을 입력받은뒤에는 연산할때의 문제를 추가적으로 입력받습니다.\n",
        "4. 위의과정을 반복합니다.\n",
        "\n",
        "'''\n",
        "\n",
        "import math as m\n",
        "\n",
        "def numberInput():\n",
        "  while True:\n",
        "    try:\n",
        "      number1 = int(input(\"숫자 첫번째를 입력해주세요\"))\n",
        "      number2 = int(input(\"숫자 두번째를 입력해주세요\"))\n",
        "      return [number1, number2]\n",
        "\n",
        "    except ValueError:\n",
        "      print(\"잘못된 숫자 입력입니다. 정수를 입력해주세요\")\n",
        "\n",
        "\n",
        "#연산자입력을 받는 부분입니다.\n",
        "'''\n",
        "### 일반적으로 if문을 통해 입력을 구분하는게 좋으나 raise를 일부러 사용하여 Exception 처리를 하였습니다.\n",
        "'''\n",
        "def operatorInput():\n",
        "\n",
        "  while True:\n",
        "    try:\n",
        "\n",
        "      operator = input(\"연산자를 입력해주세요 [+,-,*,-,**]\")\n",
        "\n",
        "      if operator == '+':\n",
        "        return '+'\n",
        "\n",
        "      if operator == '-':\n",
        "        return '-'\n",
        "\n",
        "      if operator == '*':\n",
        "        return '*'\n",
        "\n",
        "      if operator == '/':\n",
        "        return '/'\n",
        "\n",
        "      if operator == '**':\n",
        "        return '**'\n",
        "\n",
        "      else:\n",
        "        raise Exception\n",
        "\n",
        "    except Exception:\n",
        "      print(\"잘못된 연산자 입력입니다.\")\n",
        "\n",
        "def operationDo(listInputed,operatorInputed):\n",
        "\n",
        "  #번외 : 연산을 처리할떄는 아래와 같은 예외가 존재합니다.\n",
        "  '''\n",
        "  1. 전자의 숫자가 '0'일때\n",
        "    1. *,/는 무조건 결과값이 0이 됩니다.\n",
        "    2. +라면 후자의 숫자가 결과값입니다.\n",
        "    3. -라면 후자의 숫자의 -1을 곱한 것이 결과값입니다.\n",
        "\n",
        "  2. 후자의 숫자가 '0'일때\n",
        "    1. /는 에러를 발생시킵니다.\n",
        "    2. *라면 무조건 결과값이 0이됩니다.\n",
        "    3. +,-라면 전자의 숫자가 결과값입니다.\n",
        "\n",
        "  3. 둘다 0일때\n",
        "    1. /는 에러를 발생시킵니다.\n",
        "  '''\n",
        "  number1 = listInputed[0]\n",
        "  number2 = listInputed[1]\n",
        "  operator = operatorInputed\n",
        "\n",
        "  try:\n",
        "    if operator == '+':\n",
        "        return number1 + number2\n",
        "\n",
        "    if operator == '-':\n",
        "        return number1 - number2\n",
        "\n",
        "    if operator == '*':\n",
        "        return number1 * number2\n",
        "\n",
        "    if operator == '/':\n",
        "        return number1 / number2\n",
        "\n",
        "    if operator == '**':\n",
        "        return m.pow(number1,number2)\n",
        "  except ZeroDivisionError:\n",
        "    print(\"0으로 나누기 에러가 발생했습니다.\")\n",
        "    return False\n",
        "\n",
        "\n",
        "\n",
        "\n",
        "#메인함수\n",
        "def main():\n",
        "  isDone = True\n",
        "  while isDone:\n",
        "    try:\n",
        "      number_list = numberInput()\n",
        "      operator = operatorInput()\n",
        "      result = operationDo(number_list, operator)\n",
        "      if type(result) == bool:\n",
        "        raise Exception\n",
        "      else:\n",
        "        print(result)\n",
        "\n",
        "\n",
        "    except Exception:\n",
        "      print(\"잘못된 연산 입력입니다.\")\n",
        "\n",
        "    finally:\n",
        "      while True:\n",
        "        isContinue = input(\"계속 하시겠습니까? y|n \")\n",
        "\n",
        "        if(isContinue == 'y'):\n",
        "          main()\n",
        "        elif(isContinue == 'n'):\n",
        "          return\n",
        "        else:\n",
        "          print(\"잘못된 입력입니다. y|n으로 입력해주세요 \")\n",
        "\n",
        "main()"
      ],
      "metadata": {
        "id": "SfN26NtoWntL"
      },
      "execution_count": null,
      "outputs": []
    },
    {
      "cell_type": "code",
      "execution_count": 26,
      "metadata": {
        "colab": {
          "base_uri": "https://localhost:8080/",
          "height": 245
        },
        "id": "z5XmThzCM-8R",
        "outputId": "303c46ba-a1d1-44fc-accc-dcb8a8827011"
      },
      "outputs": [
        {
          "output_type": "stream",
          "name": "stdout",
          "text": [
            "두 정수 입력: 10.2 10.3\n",
            "['10.2', '10.3']\n"
          ]
        },
        {
          "output_type": "error",
          "ename": "ValueError",
          "evalue": "입력한 {operands} 중 정수아닌 수가 포함되어 있습니다.",
          "traceback": [
            "\u001b[0;31m---------------------------------------------------------------------------\u001b[0m",
            "\u001b[0;31mValueError\u001b[0m                                Traceback (most recent call last)",
            "\u001b[0;32m<ipython-input-26-c47bb10a0c8e>\u001b[0m in \u001b[0;36m<cell line: 12>\u001b[0;34m()\u001b[0m\n\u001b[1;32m     14\u001b[0m       \u001b[0;32mpass\u001b[0m\u001b[0;34m\u001b[0m\u001b[0;34m\u001b[0m\u001b[0m\n\u001b[1;32m     15\u001b[0m   \u001b[0;32melse\u001b[0m\u001b[0;34m:\u001b[0m\u001b[0;34m\u001b[0m\u001b[0;34m\u001b[0m\u001b[0m\n\u001b[0;32m---> 16\u001b[0;31m     \u001b[0;32mraise\u001b[0m \u001b[0mValueError\u001b[0m\u001b[0;34m(\u001b[0m\u001b[0;34m'입력한 {operands} 중 정수아닌 수가 포함되어 있습니다.'\u001b[0m\u001b[0;34m)\u001b[0m\u001b[0;34m\u001b[0m\u001b[0;34m\u001b[0m\u001b[0m\n\u001b[0m\u001b[1;32m     17\u001b[0m \u001b[0;34m\u001b[0m\u001b[0m\n\u001b[1;32m     18\u001b[0m \u001b[0;34m\u001b[0m\u001b[0m\n",
            "\u001b[0;31mValueError\u001b[0m: 입력한 {operands} 중 정수아닌 수가 포함되어 있습니다."
          ]
        }
      ],
      "source": [
        "from math import pow\n",
        "#from calc import *\n",
        "\n",
        "\n",
        "\n",
        "operands = input('두 정수 입력: ').split(' ')\n",
        "\n",
        "print(operands)\n",
        "#assert int(float(operands[0])) == float(operands[0]), '입력한 수는 정수가 아닙니다.'\n",
        "#assert int(float(operands[1])) == float(operands[1]), '입력한 수는 정수가 아닙니다.'\n",
        "\n",
        "for num in operands:\n",
        "  if len(operands) == 2 and (int(float(num)) == float(num)):\n",
        "      pass\n",
        "  else:\n",
        "    raise ValueError('입력한 {operands} 중 정수아닌 수가 포함되어 있습니다.')\n",
        "\n",
        "\n",
        "\n",
        "operator = input('연산자: ')\n",
        "match operator:\n",
        "    case '+': (lambda a, b: print(f'{a} + {b} = {a + b}', end ='\\n\\n'))(int(float(operands[0])), int(float(operands[1])))\n",
        "    case '-': (lambda a, b: print(f'{a} - {b} = {a - b}', end ='\\n\\n'))(int(float(operands[0])), int(float(operands[1])))\n",
        "    case '*': (lambda a, b: print(f'{a} * {b} = {a * b}', end ='\\n\\n'))(int(float(operands[0])), int(float(operands[1])))\n",
        "    case '**': (lambda a, b: print(f'{a}^{b} = {pow(a, b)}', end ='\\n\\n'))(int(float(operands[0])), int(float(operands[1])))\n",
        "    case '/':\n",
        "      if float(operands[1]) == 0:\n",
        "        raise ZeroDivisionError('0으로 나눌 수 없습니다.')\n",
        "      else: (lambda a, b: print(f'{a}^{b} = {pow(a, b)}', end ='\\n\\n'))(int(operands[0]), int(operands[1]))\n",
        "    case _:   print('지원하지 않는 연산입니다.')"
      ]
    },
    {
      "cell_type": "code",
      "source": [
        "b = 0\n",
        "assert float(b) != 0, = '0으로 나눌 수 없습니다.'"
      ],
      "metadata": {
        "colab": {
          "base_uri": "https://localhost:8080/",
          "height": 106
        },
        "id": "yd64IN8_NbqU",
        "outputId": "4e898e02-a8ab-4526-d7d3-ee775c42c6d5"
      },
      "execution_count": 13,
      "outputs": [
        {
          "output_type": "error",
          "ename": "SyntaxError",
          "evalue": "invalid syntax (<ipython-input-13-4970f266d060>, line 2)",
          "traceback": [
            "\u001b[0;36m  File \u001b[0;32m\"<ipython-input-13-4970f266d060>\"\u001b[0;36m, line \u001b[0;32m2\u001b[0m\n\u001b[0;31m    assert float(b) != 0, raise ZeroDivisionError('0으로 나눌 수 없습니다.')\u001b[0m\n\u001b[0m                          ^\u001b[0m\n\u001b[0;31mSyntaxError\u001b[0m\u001b[0;31m:\u001b[0m invalid syntax\n"
          ]
        }
      ]
    },
    {
      "cell_type": "code",
      "source": [
        "int(float(10.0)) == float(10.0)"
      ],
      "metadata": {
        "colab": {
          "base_uri": "https://localhost:8080/"
        },
        "id": "pPHylmh8YQDX",
        "outputId": "3991d521-50a5-4204-b061-0102643b8ec7"
      },
      "execution_count": 22,
      "outputs": [
        {
          "output_type": "execute_result",
          "data": {
            "text/plain": [
              "True"
            ]
          },
          "metadata": {},
          "execution_count": 22
        }
      ]
    },
    {
      "cell_type": "code",
      "source": [],
      "metadata": {
        "id": "SWqEvlaQiI-M"
      },
      "execution_count": null,
      "outputs": []
    }
  ]
}