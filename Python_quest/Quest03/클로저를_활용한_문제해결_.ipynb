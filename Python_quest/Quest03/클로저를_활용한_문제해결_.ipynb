{
  "nbformat": 4,
  "nbformat_minor": 0,
  "metadata": {
    "colab": {
      "provenance": []
    },
    "kernelspec": {
      "name": "python3",
      "display_name": "Python 3"
    },
    "language_info": {
      "name": "python"
    }
  },
  "cells": [
    {
      "cell_type": "code",
      "execution_count": null,
      "metadata": {
        "id": "qkTideDhAJcT"
      },
      "outputs": [],
      "source": [
        "def find_min_max(numbers):\n",
        "  \"\"\"\n",
        "     iterable(list, iterator, or generator) 에서 최댓값과 최솟값을 찾는다.\n",
        "\n",
        "     Parameters:\n",
        "         numbers (iterable): 검토(비교 등) 대상을 포함한 iterable.\n",
        "\n",
        "     Returns:\n",
        "         tuple: 두 함수를 요소로 갖는 tuple\n",
        "             get_min(): iterable에서 최솟값을 찾아 반환\n",
        "             get_max(): iterable에서 최댓값을 찾아 반환\n",
        "  \"\"\"\n",
        "\n",
        "\n",
        "  # min_value와 max_value 변수를 초기화\n",
        "  # min_value는 양의 무한대(float('inf'))로 초기화하여 어떤 숫자보다도 큰 값으로 설정\n",
        "  min_value = float('inf')\n",
        "  # max_value는 음의 무한대(float('-inf'))로 초기화하여 어떤 숫자보다도 작은 값으로 설정\n",
        "  max_value = float('-inf')\n",
        "\n",
        "  def update_min_max(num):\n",
        "    # 외부함수의 변수인 min_value, max_value 참조\n",
        "    nonlocal min_value\n",
        "    nonlocal max_value\n",
        "\n",
        "    # 만약 num 값이 min_value보다 작다면 min_value를 num 값으로 변경\n",
        "    if num < min_value: min_value = num\n",
        "\n",
        "    # 만약 num 값이 max_value보다 크다면 max_value를 num 값으로 변경\n",
        "    if num > max_value: max_value = num\n",
        "\n",
        "\n",
        "  # numbers 리스트의 모든 값을 순환하며 최댓값과 최솟값 업데이트\n",
        "  for num in numbers: update_min_max(num)\n",
        "\n",
        "  # 최솟값을 반환하는 내부함수\n",
        "  def get_min(): return min_value\n",
        "\n",
        "  # 최댓값을 반환하는 내부함수\n",
        "  def get_max(): return max_value\n",
        "\n",
        "  # 외부함수는 내부함수(get_min()과 get_max())를 반환\n",
        "  return (get_min, get_max)"
      ]
    },
    {
      "cell_type": "code",
      "source": [
        "print(find_min_max.__doc__)   # 함수 설명\n",
        "\n",
        "numbers = [10, 5, 8, 12, 3, 7]\n",
        "find_min, find_max = find_min_max(numbers)\n",
        "\n",
        "print(\"최솟값:\", find_min())  # 3\n",
        "print(\"최댓값:\", find_max())  # 12"
      ],
      "metadata": {
        "colab": {
          "base_uri": "https://localhost:8080/"
        },
        "id": "yyjf3GUuN5LH",
        "outputId": "dbce563e-b2bf-439e-a691-92432a08da8c"
      },
      "execution_count": null,
      "outputs": [
        {
          "output_type": "stream",
          "name": "stdout",
          "text": [
            "\n",
            "     iterable(list, iterator, or generator) 에서 최댓값과 최솟값을 찾는다.\n",
            "\n",
            "     Parameters:\n",
            "         numbers (iterable): 검토(비교 등) 대상을 포함한 iterable.\n",
            "\n",
            "     Returns:\n",
            "         tuple: 두 함수를 요소로 갖는 tuple\n",
            "             get_min(): iterable에서 최솟값을 찾아 반환\n",
            "             get_max(): iterable에서 최댓값을 찾아 반환\n",
            "  \n",
            "최솟값: 3\n",
            "최댓값: 12\n"
          ]
        }
      ]
    },
    {
      "cell_type": "code",
      "source": [
        "def counter(func):\n",
        "  \"\"\"\n",
        "     입력 받은 함수를 실행하고 출력 횟수를 표시하는 decorator\n",
        "\n",
        "     Parameters:\n",
        "         함수(매개 변수 없음)\n",
        "\n",
        "     Returns:\n",
        "         함수(Wrapper)\n",
        "  \"\"\"\n",
        "\n",
        "\n",
        "  count = 0           # Decorated 함수 출력 횟수 초기화\n",
        "\n",
        "  def wrapper():\n",
        "    nonlocal count    # wrapper에서 count에 접근 허용\n",
        "\n",
        "    func()\n",
        "    count += 1        # func() 호출 시 count 값 1 증가\n",
        "    print(f'{func.__name__} 실행 횟수: {count}') # {함수 이름} 실행 횟수: count 번 형식으로 출력\n",
        "\n",
        "  #print(id(wrapper))\n",
        "  #print(type(wrapper))\n",
        "\n",
        "  return wrapper      # wrapper 객체를 호출부로 반환"
      ],
      "metadata": {
        "id": "A1WT0uKPN64a"
      },
      "execution_count": null,
      "outputs": []
    },
    {
      "cell_type": "markdown",
      "source": [
        "say_hello()  = counter(say_hello)\n",
        "\n",
        " = wrapper"
      ],
      "metadata": {
        "id": "MP6yPtd6Q8dB"
      }
    },
    {
      "cell_type": "code",
      "source": [
        "@counter\n",
        "def say_hello():\n",
        "  print('Hello Aiffel!')\n",
        "\n",
        "\n",
        "print(counter.__doc__)   # 함수 설명\n",
        "\n",
        "\n",
        "for i in range(5):\n",
        "  say_hello()"
      ],
      "metadata": {
        "colab": {
          "base_uri": "https://localhost:8080/"
        },
        "collapsed": true,
        "id": "Mr4H_-nTN8Pm",
        "outputId": "c8517594-6850-40c6-b416-d401f58dcbe8"
      },
      "execution_count": null,
      "outputs": [
        {
          "output_type": "stream",
          "name": "stdout",
          "text": [
            "\n",
            "     입력 받은 함수를 실행하고 출력 횟수를 표시하는 decorator\n",
            "\n",
            "     Parameters:\n",
            "         함수(매개 변수 없음)\n",
            "\n",
            "     Returns:\n",
            "         함수(Wrapper)\n",
            "  \n",
            "Hello Aiffel!\n",
            "say_hello 실행 횟수: 1\n",
            "Hello Aiffel!\n",
            "say_hello 실행 횟수: 2\n",
            "Hello Aiffel!\n",
            "say_hello 실행 횟수: 3\n",
            "Hello Aiffel!\n",
            "say_hello 실행 횟수: 4\n",
            "Hello Aiffel!\n",
            "say_hello 실행 횟수: 5\n"
          ]
        }
      ]
    },
    {
      "cell_type": "markdown",
      "source": [],
      "metadata": {
        "id": "B-Jg-RjOQ50y"
      }
    },
    {
      "cell_type": "code",
      "source": [
        "def 소영():\n",
        "  pass\n",
        "\n",
        "\n",
        "print(소영.__name__)"
      ],
      "metadata": {
        "colab": {
          "base_uri": "https://localhost:8080/"
        },
        "id": "KsPxnpsNOrfI",
        "outputId": "e17aa184-9427-4c4d-964b-96aaac1a66bc"
      },
      "execution_count": null,
      "outputs": [
        {
          "output_type": "stream",
          "name": "stdout",
          "text": [
            "소영\n"
          ]
        }
      ]
    },
    {
      "cell_type": "code",
      "source": [],
      "metadata": {
        "id": "T8sd68jIOwT2"
      },
      "execution_count": null,
      "outputs": []
    }
  ]
}