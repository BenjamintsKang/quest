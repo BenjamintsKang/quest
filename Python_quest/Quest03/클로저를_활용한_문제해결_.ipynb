{
  "nbformat": 4,
  "nbformat_minor": 0,
  "metadata": {
    "colab": {
      "provenance": []
    },
    "kernelspec": {
      "name": "python3",
      "display_name": "Python 3"
    },
    "language_info": {
      "name": "python"
    }
  },
  "cells": [
    {
      "cell_type": "markdown",
      "source": [
        "# 회고\n",
        " *  python tutor를 통해 데코레이터를 사용하여 함수 호출 시 메모리에 어떻게 저장되는지 보면서 작동 원리를 대강 파악할 수 있었다. 좋은 도구다.\n",
        " *  그런데\n",
        " *  퍼실님이 제시하신 문제가 아니면 아직까지 이렇게 클로저를 설계해서 써야할 상황을 잘 모르겠습니다.\n",
        " * 그런 상황이 와서 아! 하는 순간이 있기를 바랍니다.\n"
      ],
      "metadata": {
        "id": "SemEKAsCTvu9"
      }
    },
    {
      "cell_type": "code",
      "execution_count": 21,
      "metadata": {
        "colab": {
          "base_uri": "https://localhost:8080/"
        },
        "id": "JglgNg3H-J-w",
        "outputId": "d7ac33e4-78f4-4602-edc6-94a957a4d30c"
      },
      "outputs": [
        {
          "output_type": "stream",
          "name": "stdout",
          "text": [
            "\n",
            "     Finds the minimum and maximum values in an iterable (list, iterator, or generator).\n",
            "\n",
            "     Parameters:\n",
            "         numbers (iterable): The iterable containing the numbers to be analyzed.\n",
            "\n",
            "     Returns:\n",
            "         tuple: A tuple containing two functions:\n",
            "             get_min(): Returns the minimum value found in the iterable.\n",
            "             get_max(): Returns the maximum value found in the iterable.\n",
            "  \n"
          ]
        }
      ],
      "source": [
        "def find_min_max(numbers):\n",
        "  \"\"\"\n",
        "     iterable(list, iterator, or generator) 에서 최댓값과 최솟값을 찾는다.\n",
        "\n",
        "     Parameters:\n",
        "         numbers (iterable): 검토(비교 등) 대상을 포함한 iterable.\n",
        "\n",
        "     Returns:\n",
        "         tuple: 두 함수를 요소로 갖는 tuple\n",
        "             get_min(): iterable에서 최솟값을 찾아 반환\n",
        "             get_max(): iterable에서 최댓값을 찾아 반환\n",
        "  \"\"\"\n",
        "\n",
        "\n",
        "  # min_value와 max_value 변수를 초기화\n",
        "  # min_value는 양의 무한대(float('inf'))로 초기화하여 어떤 숫자보다도 큰 값으로 설정\n",
        "  min_value = float('inf')\n",
        "  # max_value는 음의 무한대(float('-inf'))로 초기화하여 어떤 숫자보다도 작은 값으로 설정\n",
        "  max_value = float('-inf')\n",
        "\n",
        "  def update_min_max(num):\n",
        "    # 외부함수의 변수인 min_value, max_value 참조\n",
        "    nonlocal min_value\n",
        "    nonlocal max_value\n",
        "\n",
        "    # 만약 num 값이 min_value보다 작다면 min_value를 num 값으로 변경\n",
        "    if num < min_value: min_value = num\n",
        "\n",
        "    # 만약 num 값이 max_value보다 크다면 max_value를 num 값으로 변경\n",
        "    if num > max_value: max_value = num\n",
        "\n",
        "\n",
        "  # numbers 리스트의 모든 값을 순환하며 최댓값과 최솟값 업데이트\n",
        "  for num in numbers: update_min_max(num)\n",
        "\n",
        "  # 최솟값을 반환하는 내부함수\n",
        "  def get_min(): return min_value\n",
        "\n",
        "  # 최댓값을 반환하는 내부함수\n",
        "  def get_max(): return max_value\n",
        "\n",
        "  # 외부함수는 내부함수(get_min()과 get_max())를 반환\n",
        "  return (get_min, get_max)"
      ]
    },
    {
      "cell_type": "code",
      "source": [
        "print(find_min_max.__doc__)   # 함수 설명\n",
        "\n",
        "numbers = [10, 5, 8, 12, 3, 7]\n",
        "find_min, find_max = find_min_max(numbers)\n",
        "\n",
        "print(\"최솟값:\", find_min())  # 3\n",
        "print(\"최댓값:\", find_max())  # 12"
      ],
      "metadata": {
        "colab": {
          "base_uri": "https://localhost:8080/"
        },
        "id": "qqVdSOnpDIGh",
        "outputId": "5d93deb8-e6a1-45cf-9124-1f1aee20691c"
      },
      "execution_count": 13,
      "outputs": [
        {
          "output_type": "stream",
          "name": "stdout",
          "text": [
            "최솟값: 3\n",
            "최댓값: 12\n"
          ]
        }
      ]
    },
    {
      "cell_type": "code",
      "source": [
        "def counter(func):\n",
        "  \"\"\"\n",
        "     입력 받은 함수를 실행하고 출력 횟수를 표시하는 decorator\n",
        "\n",
        "     Parameters:\n",
        "         함수(매개 변수 없음)\n",
        "\n",
        "     Returns:\n",
        "         함수(Wrapper)\n",
        "  \"\"\"\n",
        "\n",
        "\n",
        "  count = 0           # Decorated 함수 출력 횟수 초기화\n",
        "\n",
        "  def wrapper():\n",
        "    nonlocal count    # wrapper에서 count에 접근 허용\n",
        "\n",
        "    func()\n",
        "    count += 1        # func() 호출 시 count 값 1 증가\n",
        "    print(f'{func.__name__} 실행 횟수: {count}') # {함수 이름} 실행 횟수: count 번 형식으로 출력\n",
        "\n",
        "  return wrapper      # wrapper 객체를 호출부로 반환"
      ],
      "metadata": {
        "collapsed": true,
        "id": "h1mGp22UDIn4"
      },
      "execution_count": 26,
      "outputs": []
    },
    {
      "cell_type": "markdown",
      "source": [
        "say_hello()  = counter(say_hello)\n",
        "\n",
        " = wrapper"
      ],
      "metadata": {
        "id": "ui_X306BTqZU"
      }
    },
    {
      "cell_type": "code",
      "source": [
        "@counter\n",
        "def say_hello():\n",
        "  print('Hello Aiffel!')\n",
        "\n",
        "\n",
        "print(counter.__doc__)   # 함수 설명\n",
        "\n",
        "\n",
        "for i in range(5):\n",
        "  say_hello()"
      ],
      "metadata": {
        "colab": {
          "base_uri": "https://localhost:8080/"
        },
        "id": "0cX_77W_M3EC",
        "outputId": "17b34cbb-f635-4192-c87c-9ec4adc3b596"
      },
      "execution_count": 27,
      "outputs": [
        {
          "output_type": "stream",
          "name": "stdout",
          "text": [
            "\n",
            "     입력 받은 함수를 실행하고 출력 횟수를 표시하는 decorator\n",
            "\n",
            "     Parameters:\n",
            "         함수(매개 변수 없음)\n",
            "\n",
            "     Returns:\n",
            "         함수(Wrapper)\n",
            "  \n",
            "Hello Aiffel!\n",
            "say_hello 실행 횟수: 1\n",
            "Hello Aiffel!\n",
            "say_hello 실행 횟수: 2\n",
            "Hello Aiffel!\n",
            "say_hello 실행 횟수: 3\n",
            "Hello Aiffel!\n",
            "say_hello 실행 횟수: 4\n",
            "Hello Aiffel!\n",
            "say_hello 실행 횟수: 5\n"
          ]
        }
      ]
    }
  ]
}