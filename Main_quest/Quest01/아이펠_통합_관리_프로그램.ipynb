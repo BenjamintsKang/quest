{
  "nbformat": 4,
  "nbformat_minor": 0,
  "metadata": {
    "colab": {
      "provenance": []
    },
    "kernelspec": {
      "name": "python3",
      "display_name": "Python 3"
    },
    "language_info": {
      "name": "python"
    }
  },
  "cells": [
    {
      "cell_type": "code",
      "execution_count": 109,
      "metadata": {
        "id": "iyRw6h-epiy0"
      },
      "outputs": [],
      "source": [
        "from random import randint\n",
        "\n",
        "\n",
        "class Aiffel:\n",
        "  core_grew_num = 0\n",
        "  research_grew_num = 0\n",
        "  grew_info = {'코어그루': [], '리서치그루': []}\n",
        "\n",
        "\n",
        "  @classmethod                                          # Q3\n",
        "  def display_grew_info(cls, std = '이름'):\n",
        "    for grew in sorted(cls.grew_info['코어그루'],   key = lambda x: x[std], reverse = True):\n",
        "      print(grew)\n",
        "\n",
        "    print('-' * 20)\n",
        "    for grew in sorted(cls.grew_info['리서치그루'],   key = lambda x: x[std], reverse = True):\n",
        "      print(grew)\n",
        "\n",
        "\n",
        "  @classmethod                                          # Q3\n",
        "  def remove(cls, grew_class):\n",
        "    match str(grew_class)[4]:\n",
        "      case '1':\n",
        "        for i, grew in enumerate(cls.grew_info['리서치그루']):\n",
        "          if grew['학번'] == str(grew_class):\n",
        "            #del cls.grew_info['리서치그루'][i]\n",
        "            print(f\"\\n{grew_class} 정보: {cls.grew_info['리서치그루'].pop(i)} 제거\\n\")\n",
        "            break\n",
        "      case '2':\n",
        "        for i, grew in enumerate(cls.grew_info['코어그루']):\n",
        "          if grew['학번'] == str(grew_class):\n",
        "            #del cls.grew_info['코어그루'][i]\n",
        "            print(f\"\\n{grew_class} 정보: {cls.grew_info['코어그루'].pop(i)} 제거\\n\")\n",
        "            break\n",
        "\n",
        "  '''                                                   # Q4\n",
        "  @classmethod\n",
        "  def grouping(cls, combi):\n",
        "    core_combi_info = []\n",
        "    research_combi_info = []\n",
        "    core_mem = cls.grew_info['코어그루']\n",
        "    research_mem = cls.grew_info['리서치그루']\n",
        "\n",
        "    for i in range(core_mem):\n",
        "      core_combi.append()\n",
        "\n",
        "    for i in range(research_mem):\n",
        "      pass\n",
        "  '''\n",
        "\n",
        "\n",
        "  def __init__(self, grew_name, admmi_year,\\\n",
        "               num_of_curriculum, curriculum):           # Q1\n",
        "    self.__grew_name = grew_name\n",
        "    admmi_year_str = str(admmi_year)\n",
        "    match curriculum:\n",
        "      case 1:\n",
        "        Aiffel.research_grew_num += 1\n",
        "        self.__grew_class = admmi_year_str[2:] + str(num_of_curriculum) + str(curriculum) + \\\n",
        "                            f'{Aiffel.research_grew_num:0>2}'\n",
        "        Aiffel.grew_info['리서치그루'].append({'이름': self.__grew_name, '과정': '리서치',\n",
        "                                          '학번': self.__grew_class, '가산점': 0, '감점': 0, '총점': 0})\n",
        "      case 2:\n",
        "        Aiffel.core_grew_num += 1\n",
        "        self.__grew_class = admmi_year_str = str(admmi_year)[2:] + str(num_of_curriculum) + str(curriculum) + \\\n",
        "                            f'{Aiffel.core_grew_num:0>2}'\n",
        "        Aiffel.grew_info['코어그루'].append({'이름': self.__grew_name, '과정': '코어',\n",
        "                                         '학번': self.__grew_class, '가산점': 0, '감점': 0, '총점': 0})\n",
        "\n",
        "\n",
        "  def add_score(self, reward):                            # Q2\n",
        "    match self.__grew_class[4]:\n",
        "      case '1':\n",
        "        for grew in Aiffel.grew_info['리서치그루']:\n",
        "          if grew['학번'] == self.__grew_class:\n",
        "            grew['가산점'] += reward\n",
        "            grew['총점'] += grew['가산점']\n",
        "      case '2':\n",
        "        for grew in Aiffel.grew_info['코어그루']:\n",
        "          if grew['학번'] == self.__grew_class:\n",
        "            grew['가산점'] += reward\n",
        "            grew['총점'] += grew['가산점']\n",
        "\n",
        "\n",
        "  def sub_score(self, penalty):\n",
        "    match self.__grew_class[4]:\n",
        "      case '1':\n",
        "        for grew in Aiffel.grew_info['리서치그루']:\n",
        "          if grew['학번'] == self.__grew_class:\n",
        "            grew['감점'] += penalty\n",
        "            grew['총점'] -= grew['감점']\n",
        "      case '2':\n",
        "        for grew in Aiffel.grew_info['코어그루']:\n",
        "          if grew['학번'] == self.__grew_class:\n",
        "            grew['감점'] += penalty\n",
        "            grew['총점'] -= grew['감점']\n",
        "\n",
        "\n",
        "  @property\n",
        "  def total_score(self):                                   # Q2\n",
        "    match self.__grew_class[4]:\n",
        "      case '1':\n",
        "        for grew in Aiffel.grew_info['리서치그루']:\n",
        "          if grew['학번'] == self.__grew_class:\n",
        "            print(f\"\\n{self.__grew_name}의 현재 총점: {grew['총점']}\\n\")\n",
        "      case '2':\n",
        "        for grew in Aiffel.grew_info['코어그루']:\n",
        "          if grew['학번'] == self.__grew_class:\n",
        "            print(f\"\\n{self.__grew_name}의 현재 총점: {grew['총점']}\\n\")"
      ]
    },
    {
      "cell_type": "code",
      "source": [
        "# Test the code\n",
        "aiffel1 = Aiffel('김동규', 2024, 31, 1)\n",
        "aiffel2 = Aiffel('김김김', 2024, 23, 2)\n",
        "aiffel3 = Aiffel('김김남', 2024, 14, 1)\n",
        "aiffel4 = Aiffel('김김농', 2024, 53, 2)\n",
        "aiffel5 = Aiffel('아랑보', 2024, 23, 1)\n",
        "aiffel6 = Aiffel('헉교종', 2024, 13, 2)\n",
        "aiffel7 = Aiffel('가우스', 2024, 31, 1)\n",
        "aiffel8 = Aiffel('씨마스', 2024, 32, 2)\n",
        "\n",
        "\n",
        "grew_list = [aiffel1, aiffel2, aiffel3, aiffel4, aiffel5, aiffel6, aiffel7, aiffel8]\n",
        "\n",
        "for grew in grew_list:\n",
        "  grew.add_score(randint(1, 10))\n",
        "  grew.sub_score(randint(1, 10))\n",
        "\n",
        "for grew in grew_list:\n",
        "  grew.total_score\n",
        "\n",
        "Aiffel.display_grew_info('총점')\n",
        "\n",
        "\n",
        "Aiffel.remove(2453202)\n",
        "Aiffel.remove(2423103)\n",
        "\n",
        "print('\\n\\n')\n",
        "Aiffel.display_grew_info('총점')"
      ],
      "metadata": {
        "colab": {
          "base_uri": "https://localhost:8080/"
        },
        "id": "5gmwii-y3jpu",
        "outputId": "83dc37cb-90e8-4554-f3a2-d9a3ff2092ef"
      },
      "execution_count": 110,
      "outputs": [
        {
          "output_type": "stream",
          "name": "stdout",
          "text": [
            "\n",
            "김동규의 현재 총점: -4\n",
            "\n",
            "\n",
            "김김김의 현재 총점: -6\n",
            "\n",
            "\n",
            "김김남의 현재 총점: 0\n",
            "\n",
            "\n",
            "김김농의 현재 총점: 3\n",
            "\n",
            "\n",
            "아랑보의 현재 총점: -4\n",
            "\n",
            "\n",
            "헉교종의 현재 총점: 4\n",
            "\n",
            "\n",
            "가우스의 현재 총점: 3\n",
            "\n",
            "\n",
            "씨마스의 현재 총점: 3\n",
            "\n",
            "{'이름': '헉교종', '과정': '코어', '학번': '2413203', '가산점': 7, '감점': 3, '총점': 4}\n",
            "{'이름': '김김농', '과정': '코어', '학번': '2453202', '가산점': 5, '감점': 2, '총점': 3}\n",
            "{'이름': '씨마스', '과정': '코어', '학번': '2432204', '가산점': 7, '감점': 4, '총점': 3}\n",
            "{'이름': '김김김', '과정': '코어', '학번': '2423201', '가산점': 2, '감점': 8, '총점': -6}\n",
            "--------------------\n",
            "{'이름': '가우스', '과정': '리서치', '학번': '2431104', '가산점': 7, '감점': 4, '총점': 3}\n",
            "{'이름': '김김남', '과정': '리서치', '학번': '2414102', '가산점': 2, '감점': 2, '총점': 0}\n",
            "{'이름': '김동규', '과정': '리서치', '학번': '2431101', '가산점': 5, '감점': 9, '총점': -4}\n",
            "{'이름': '아랑보', '과정': '리서치', '학번': '2423103', '가산점': 3, '감점': 7, '총점': -4}\n",
            "2453202 정보: {'이름': '김김농', '과정': '코어', '학번': '2453202', '가산점': 5, '감점': 2, '총점': 3} 제거\n",
            "\n",
            "2423103 정보: {'이름': '아랑보', '과정': '리서치', '학번': '2423103', '가산점': 3, '감점': 7, '총점': -4} 제거\n",
            "\n",
            "\n",
            "\n",
            "\n",
            "{'이름': '헉교종', '과정': '코어', '학번': '2413203', '가산점': 7, '감점': 3, '총점': 4}\n",
            "{'이름': '씨마스', '과정': '코어', '학번': '2432204', '가산점': 7, '감점': 4, '총점': 3}\n",
            "{'이름': '김김김', '과정': '코어', '학번': '2423201', '가산점': 2, '감점': 8, '총점': -6}\n",
            "--------------------\n",
            "{'이름': '가우스', '과정': '리서치', '학번': '2431104', '가산점': 7, '감점': 4, '총점': 3}\n",
            "{'이름': '김김남', '과정': '리서치', '학번': '2414102', '가산점': 2, '감점': 2, '총점': 0}\n",
            "{'이름': '김동규', '과정': '리서치', '학번': '2431101', '가산점': 5, '감점': 9, '총점': -4}\n"
          ]
        }
      ]
    },
    {
      "cell_type": "code",
      "source": [
        "e = {'a': 1, 'c': 2, 'd': 3}\n",
        "del e['a']\n",
        "e.pop('d')\n",
        "e.update(('f':4))"
      ],
      "metadata": {
        "colab": {
          "base_uri": "https://localhost:8080/",
          "height": 110
        },
        "id": "FTHZ1WWrGZMP",
        "outputId": "f6625fb9-cb51-47f2-9ac0-8dc90ca151a6"
      },
      "execution_count": 111,
      "outputs": [
        {
          "output_type": "error",
          "ename": "SyntaxError",
          "evalue": "invalid syntax (<ipython-input-111-c421d1edf2c2>, line 4)",
          "traceback": [
            "\u001b[0;36m  File \u001b[0;32m\"<ipython-input-111-c421d1edf2c2>\"\u001b[0;36m, line \u001b[0;32m4\u001b[0m\n\u001b[0;31m    e.update(('f':4))\u001b[0m\n\u001b[0m                 ^\u001b[0m\n\u001b[0;31mSyntaxError\u001b[0m\u001b[0;31m:\u001b[0m invalid syntax\n"
          ]
        }
      ]
    },
    {
      "cell_type": "code",
      "source": [
        "[1,2,3,].pop(2)"
      ],
      "metadata": {
        "colab": {
          "base_uri": "https://localhost:8080/"
        },
        "id": "Z7_g_ewhLk_a",
        "outputId": "d10c7f02-9771-4c28-a6d5-a13632dcdd9e"
      },
      "execution_count": 83,
      "outputs": [
        {
          "output_type": "execute_result",
          "data": {
            "text/plain": [
              "3"
            ]
          },
          "metadata": {},
          "execution_count": 83
        }
      ]
    },
    {
      "cell_type": "code",
      "source": [],
      "metadata": {
        "id": "VR3xbUK-SC2U"
      },
      "execution_count": null,
      "outputs": []
    }
  ]
}